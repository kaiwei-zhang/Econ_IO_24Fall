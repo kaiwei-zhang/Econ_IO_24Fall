{
 "cells": [
  {
   "cell_type": "code",
   "execution_count": 1,
   "metadata": {},
   "outputs": [],
   "source": [
    "import os\n",
    "import pandas as pd\n",
    "import numpy as np\n",
    "from scipy import stats\n",
    "import statsmodels.api as sm\n",
    "from statsmodels.sandbox.regression.gmm import IV2SLS\n",
    "import matplotlib.pyplot as plt\n",
    "import random\n",
    "import warnings\n",
    "warnings.filterwarnings(\"ignore\")\n",
    "\n",
    "os.chdir('/Users/kaiweizhang/Documents/GitHub/Econ_IO_24Fall/assignment2')\n",
    "\n",
    "global MARKET_DATA, CONSUMER\n"
   ]
  },
  {
   "cell_type": "code",
   "execution_count": 2,
   "metadata": {},
   "outputs": [],
   "source": [
    "from pandarallel import pandarallel\n",
    "# Setup MRE\n",
    "pandarallel.initialize(progress_bar=False, verbose=0)"
   ]
  },
  {
   "cell_type": "markdown",
   "metadata": {},
   "source": [
    "# 1\n",
    "\n",
    "## 1(a): Compute $\\bar{y}_t, \\sigma_{y_t}$, and $\\bar{p}_t$ for each market. Compute $\\operatorname{cor}\\left(\\bar{y}_t, \\bar{p}_t\\right)$. Do consumers in wealthier markets buy more expensive products on average?\n",
    "\n",
    "ans1_df is a df that for each market, the row tells the average income, variance of income, and average price paid on this market. Since mean_y and avg_p has positive correlation, we guess wealthier people buy more expensive products.\n"
   ]
  },
  {
   "cell_type": "code",
   "execution_count": 3,
   "metadata": {},
   "outputs": [
    {
     "data": {
      "text/html": [
       "<div>\n",
       "<style scoped>\n",
       "    .dataframe tbody tr th:only-of-type {\n",
       "        vertical-align: middle;\n",
       "    }\n",
       "\n",
       "    .dataframe tbody tr th {\n",
       "        vertical-align: top;\n",
       "    }\n",
       "\n",
       "    .dataframe thead th {\n",
       "        text-align: right;\n",
       "    }\n",
       "</style>\n",
       "<table border=\"1\" class=\"dataframe\">\n",
       "  <thead>\n",
       "    <tr style=\"text-align: right;\">\n",
       "      <th></th>\n",
       "      <th>mean_y</th>\n",
       "      <th>var_y</th>\n",
       "      <th>avg_p</th>\n",
       "    </tr>\n",
       "    <tr>\n",
       "      <th>t</th>\n",
       "      <th></th>\n",
       "      <th></th>\n",
       "      <th></th>\n",
       "    </tr>\n",
       "  </thead>\n",
       "  <tbody>\n",
       "    <tr>\n",
       "      <th>1</th>\n",
       "      <td>6.002591</td>\n",
       "      <td>0.266339</td>\n",
       "      <td>2.059838</td>\n",
       "    </tr>\n",
       "    <tr>\n",
       "      <th>2</th>\n",
       "      <td>4.550203</td>\n",
       "      <td>0.236291</td>\n",
       "      <td>2.173610</td>\n",
       "    </tr>\n",
       "    <tr>\n",
       "      <th>3</th>\n",
       "      <td>5.929497</td>\n",
       "      <td>0.233196</td>\n",
       "      <td>2.335994</td>\n",
       "    </tr>\n",
       "    <tr>\n",
       "      <th>4</th>\n",
       "      <td>4.432515</td>\n",
       "      <td>0.241526</td>\n",
       "      <td>2.047550</td>\n",
       "    </tr>\n",
       "  </tbody>\n",
       "</table>\n",
       "</div>"
      ],
      "text/plain": [
       "     mean_y     var_y     avg_p\n",
       "t                              \n",
       "1  6.002591  0.266339  2.059838\n",
       "2  4.550203  0.236291  2.173610\n",
       "3  5.929497  0.233196  2.335994\n",
       "4  4.432515  0.241526  2.047550"
      ]
     },
     "execution_count": 3,
     "metadata": {},
     "output_type": "execute_result"
    }
   ],
   "source": [
    "census_data = pd.read_csv('consumer_census.csv')\n",
    "# groupby t, get the mean and variance of income. Do that for me\n",
    "income_mean_variance_df = census_data.groupby('t')['income'].agg(['mean', 'var'])\n",
    "#income_mean_variance_df.loc[1:3]\n",
    "ans1_df = income_mean_variance_df\n",
    "ans1_df.columns=['mean_y', 'var_y']\n",
    "\n",
    "MARKET_DATA = pd.read_csv('product_data_ps2.csv')\n",
    "MARKET_DATA['weighted_price']= MARKET_DATA['price']*MARKET_DATA['market_share']\n",
    "ans1_df['avg_p'] = MARKET_DATA.groupby('t')['weighted_price'].agg(['sum'])\n",
    "# drop weighted_price in market_data\n",
    "market_data = MARKET_DATA.drop(columns=['weighted_price'])\n",
    "ans1_df[:4]"
   ]
  },
  {
   "cell_type": "code",
   "execution_count": 4,
   "metadata": {},
   "outputs": [
    {
     "data": {
      "text/plain": [
       "0.15430274953743148"
      ]
     },
     "execution_count": 4,
     "metadata": {},
     "output_type": "execute_result"
    }
   ],
   "source": [
    "# calculate correlation between avg_p and mean_y on ans1_df\n",
    "ans1_df['mean_y'].corr(ans1_df['avg_p'])"
   ]
  },
  {
   "cell_type": "markdown",
   "metadata": {},
   "source": [
    "## 1(b) Draw Consumer Data\n",
    "draw_consumer is a function that takes a true distribution (pd.Series), sample size and random seed number that returns a df with S consumers, each has income, nu1 and nu2.\n",
    "\n",
    "for the first bullet point I just use the whole data and replicate for 50 times. For the second, I use market-t data for each t.\n",
    "\n",
    "ans is a summary for the first fake data, statistics looks as what we want\n",
    "\n",
    "CONSUMER is what we get for second."
   ]
  },
  {
   "cell_type": "code",
   "execution_count": 5,
   "metadata": {},
   "outputs": [
    {
     "data": {
      "text/html": [
       "<div>\n",
       "<style scoped>\n",
       "    .dataframe tbody tr th:only-of-type {\n",
       "        vertical-align: middle;\n",
       "    }\n",
       "\n",
       "    .dataframe tbody tr th {\n",
       "        vertical-align: top;\n",
       "    }\n",
       "\n",
       "    .dataframe thead th {\n",
       "        text-align: right;\n",
       "    }\n",
       "</style>\n",
       "<table border=\"1\" class=\"dataframe\">\n",
       "  <thead>\n",
       "    <tr style=\"text-align: right;\">\n",
       "      <th></th>\n",
       "      <th>income_var</th>\n",
       "      <th>income_mean</th>\n",
       "      <th>nu1_var</th>\n",
       "      <th>nu1_mean</th>\n",
       "      <th>nu2_var</th>\n",
       "      <th>nu2_mean</th>\n",
       "    </tr>\n",
       "  </thead>\n",
       "  <tbody>\n",
       "    <tr>\n",
       "      <th>1</th>\n",
       "      <td>0.535060</td>\n",
       "      <td>5.131497</td>\n",
       "      <td>0.819948</td>\n",
       "      <td>0.194297</td>\n",
       "      <td>0.939500</td>\n",
       "      <td>0.092831</td>\n",
       "    </tr>\n",
       "    <tr>\n",
       "      <th>2</th>\n",
       "      <td>0.486349</td>\n",
       "      <td>5.303420</td>\n",
       "      <td>1.163719</td>\n",
       "      <td>-0.101821</td>\n",
       "      <td>0.855095</td>\n",
       "      <td>0.028442</td>\n",
       "    </tr>\n",
       "  </tbody>\n",
       "</table>\n",
       "</div>"
      ],
      "text/plain": [
       "   income_var  income_mean   nu1_var  nu1_mean   nu2_var  nu2_mean\n",
       "1    0.535060     5.131497  0.819948  0.194297  0.939500  0.092831\n",
       "2    0.486349     5.303420  1.163719 -0.101821  0.855095  0.028442"
      ]
     },
     "execution_count": 5,
     "metadata": {},
     "output_type": "execute_result"
    }
   ],
   "source": [
    "def draw_consumer(true_distribution, S, SEED):\n",
    "    '''S for sample size, SEED for random seed, true_distribution for the distribution of income'''\n",
    "    np.random.seed(SEED)\n",
    "    income_distribution = np.random.choice(true_distribution, size=S, replace=True)\n",
    "\n",
    "    nu1 = np.random.normal(0,1,S)\n",
    "    nu2 = np.random.normal(0,1,S)\n",
    "    fake_consumer_sample = pd.DataFrame({'income': income_distribution,'nu_1':nu1, 'nu_2':nu2})\n",
    "    return fake_consumer_sample\n",
    "\n",
    "dic ={}\n",
    "for i in range(1,51):\n",
    "    df= draw_consumer(census_data['income'].values, 100, SEED = i)\n",
    "    dic[i] = [df['income'].var(),df['income'].mean(), df['nu_1'].var(), df['nu_1'].mean(), df['nu_2'].var(), df['nu_2'].mean()]\n",
    "\n",
    "ans = pd.DataFrame(dic).T\n",
    "ans.columns = ['income_var', 'income_mean', 'nu1_var', 'nu1_mean', 'nu2_var', 'nu2_mean']\n",
    "\n",
    "ans[:2]"
   ]
  },
  {
   "cell_type": "code",
   "execution_count": 6,
   "metadata": {},
   "outputs": [
    {
     "data": {
      "text/plain": [
       "500000"
      ]
     },
     "execution_count": 6,
     "metadata": {},
     "output_type": "execute_result"
    }
   ],
   "source": [
    "census_data['income'].var()\n",
    "\n",
    "len(census_data)"
   ]
  },
  {
   "cell_type": "code",
   "execution_count": 7,
   "metadata": {},
   "outputs": [
    {
     "data": {
      "text/html": [
       "<div>\n",
       "<style scoped>\n",
       "    .dataframe tbody tr th:only-of-type {\n",
       "        vertical-align: middle;\n",
       "    }\n",
       "\n",
       "    .dataframe tbody tr th {\n",
       "        vertical-align: top;\n",
       "    }\n",
       "\n",
       "    .dataframe thead th {\n",
       "        text-align: right;\n",
       "    }\n",
       "</style>\n",
       "<table border=\"1\" class=\"dataframe\">\n",
       "  <thead>\n",
       "    <tr style=\"text-align: right;\">\n",
       "      <th></th>\n",
       "      <th>income</th>\n",
       "      <th>nu_1</th>\n",
       "      <th>nu_2</th>\n",
       "      <th>t</th>\n",
       "    </tr>\n",
       "  </thead>\n",
       "  <tbody>\n",
       "    <tr>\n",
       "      <th>0</th>\n",
       "      <td>5.989803</td>\n",
       "      <td>1.942579</td>\n",
       "      <td>-0.827635</td>\n",
       "      <td>1</td>\n",
       "    </tr>\n",
       "    <tr>\n",
       "      <th>1</th>\n",
       "      <td>5.200218</td>\n",
       "      <td>0.057218</td>\n",
       "      <td>0.036102</td>\n",
       "      <td>1</td>\n",
       "    </tr>\n",
       "  </tbody>\n",
       "</table>\n",
       "</div>"
      ],
      "text/plain": [
       "     income      nu_1      nu_2  t\n",
       "0  5.989803  1.942579 -0.827635  1\n",
       "1  5.200218  0.057218  0.036102  1"
      ]
     },
     "execution_count": 7,
     "metadata": {},
     "output_type": "execute_result"
    }
   ],
   "source": [
    "# 500 for each t, concat to the same dataframe CONSUMER\n",
    "# For each t, input t-market consumer data for true distribution.\n",
    "CONSUMER = pd.DataFrame()\n",
    "for i in range(1,51):\n",
    "    temp_source = census_data[census_data['t']==i]\n",
    "    df= draw_consumer(temp_source['income'].values, 500, SEED = i)\n",
    "    df['t'] = i\n",
    "    CONSUMER = pd.concat([CONSUMER, df])\n",
    "CONSUMER=CONSUMER.reset_index(drop=True)\n",
    "CONSUMER[:2]"
   ]
  },
  {
   "cell_type": "markdown",
   "metadata": {},
   "source": [
    "## 1(c) Estimate share equation\n",
    "calculate_s is a function with inputs delta, theta, t (which market delta is for?), it also takes market_data and consumer, in case I need\n",
    "\n",
    "return is a new df. it's consumer data  with the right t, plus 50 new columns: P_i for probability of choose i."
   ]
  },
  {
   "cell_type": "code",
   "execution_count": 8,
   "metadata": {},
   "outputs": [],
   "source": [
    "delta_guess = [1]*50\n",
    "theta = [0.5,1,1]\n",
    "\n",
    "def calculate_s(delta_guess,theta, Temp_T=1, market_data=MARKET_DATA, CONSUMER=CONSUMER):\n",
    "    \"\"\"\n",
    "    Given delta_guess and theta, calculate s(prob that i choose j) for each consumer \n",
    "    Seems input is only for Temp_T, I need Temp_T to pin down the market data\n",
    "    return: CONSUMER.query(t), with 50 new columns which tells the probability of choosing each product\n",
    "    \"\"\"\n",
    "    delta_input =np.array([0]+list(delta_guess))\n",
    "\n",
    "    [alpha, sigma1,sigma2] =theta\n",
    "\n",
    "    data1=market_data[['product_ID','price','sugar','caffeine','t']]\n",
    "    # generate a table with price_1,price_2,..price_10 for each t\n",
    "\n",
    "    temp_data=data1[data1['t']== Temp_T].drop(columns=['t'])\n",
    "    temp_CONSUMER = CONSUMER[CONSUMER['t']== Temp_T]\n",
    "    temp_data # data on t=1 market\n",
    "\n",
    "\n",
    "    p_row = temp_data[['price']].T #50x1 for 50 ID\n",
    "    sug_row = temp_data[['sugar']].T\n",
    "    caf_row = temp_data[['caffeine']].T\n",
    "    table1=pd.concat([p_row,sug_row,caf_row],axis=0)\n",
    "    table1\n",
    "\n",
    "    table2=temp_CONSUMER[['income','nu_1','nu_2']]\n",
    "    table2['income']=table2['income']*alpha\n",
    "    table2['nu_1']=table2['nu_1']*sigma1\n",
    "    table2['nu_2']=table2['nu_2']*sigma2\n",
    "    table2.shape, table1.shape #calculate table1*table2 in matrix\n",
    "    m1=np.array(table1)\n",
    "    m2=np.array(table2)\n",
    "    m = m2@m1\n",
    "    m.shape  # now I want CONSUMER add m as a new column\n",
    "    mu_lis=[]\n",
    "\n",
    "    for i in range(1,51):\n",
    "        temp_CONSUMER['mu_'+ str(i)] = m[:,i-1]\n",
    "        mu_lis.append('mu_'+ str(i))\n",
    "    temp_CONSUMER\n",
    "\n",
    "    sum_lis = []\n",
    "    for i in range(1,51):\n",
    "        temp_CONSUMER['exp_delta_plus_mu'+str(i)] = np.exp(temp_CONSUMER['mu_'+str(i)]+delta_input[i])\n",
    "        sum_lis.append('exp_delta_plus_mu'+str(i))\n",
    "    temp_CONSUMER['new'] = temp_CONSUMER[sum_lis].sum(axis=1)+1 #sum_k(exp(delta_k+mu_k))+1\n",
    "    temp_CONSUMER['new'] = np.log(temp_CONSUMER['new'])\n",
    "\n",
    "    P_lis=[]\n",
    "    for i in range(1,51):\n",
    "        temp_CONSUMER['P_'+str(i)] = temp_CONSUMER['mu_'+str(i)]+delta_input[i]-temp_CONSUMER['new']\n",
    "        temp_CONSUMER['P_'+str(i)]=np.exp(temp_CONSUMER['P_'+str(i)])\n",
    "        P_lis.append('P_'+str(i))\n",
    "    temp_CONSUMER[P_lis].sum(axis=1) # sum to around 1, good\n",
    "\n",
    "    # drop mu_lis and sum_lis\n",
    "    temp_CONSUMER=temp_CONSUMER.drop(columns=mu_lis)\n",
    "    temp_CONSUMER=temp_CONSUMER.drop(columns=sum_lis)\n",
    "    temp_CONSUMER = temp_CONSUMER.drop(columns='new')\n",
    "\n",
    "\n",
    "    return temp_CONSUMER"
   ]
  },
  {
   "cell_type": "code",
   "execution_count": 9,
   "metadata": {},
   "outputs": [
    {
     "data": {
      "text/html": [
       "<div>\n",
       "<style scoped>\n",
       "    .dataframe tbody tr th:only-of-type {\n",
       "        vertical-align: middle;\n",
       "    }\n",
       "\n",
       "    .dataframe tbody tr th {\n",
       "        vertical-align: top;\n",
       "    }\n",
       "\n",
       "    .dataframe thead th {\n",
       "        text-align: right;\n",
       "    }\n",
       "</style>\n",
       "<table border=\"1\" class=\"dataframe\">\n",
       "  <thead>\n",
       "    <tr style=\"text-align: right;\">\n",
       "      <th></th>\n",
       "      <th>income</th>\n",
       "      <th>nu_1</th>\n",
       "      <th>nu_2</th>\n",
       "      <th>t</th>\n",
       "      <th>P_1</th>\n",
       "      <th>P_2</th>\n",
       "      <th>P_3</th>\n",
       "      <th>P_4</th>\n",
       "      <th>P_5</th>\n",
       "      <th>P_6</th>\n",
       "      <th>...</th>\n",
       "      <th>P_41</th>\n",
       "      <th>P_42</th>\n",
       "      <th>P_43</th>\n",
       "      <th>P_44</th>\n",
       "      <th>P_45</th>\n",
       "      <th>P_46</th>\n",
       "      <th>P_47</th>\n",
       "      <th>P_48</th>\n",
       "      <th>P_49</th>\n",
       "      <th>P_50</th>\n",
       "    </tr>\n",
       "  </thead>\n",
       "  <tbody>\n",
       "    <tr>\n",
       "      <th>0</th>\n",
       "      <td>5.989803</td>\n",
       "      <td>1.942579</td>\n",
       "      <td>-0.827635</td>\n",
       "      <td>1</td>\n",
       "      <td>6.073427e-07</td>\n",
       "      <td>0.000018</td>\n",
       "      <td>8.380787e-07</td>\n",
       "      <td>0.000005</td>\n",
       "      <td>5.446349e-07</td>\n",
       "      <td>7.010009e-08</td>\n",
       "      <td>...</td>\n",
       "      <td>0.000729</td>\n",
       "      <td>0.000018</td>\n",
       "      <td>0.000224</td>\n",
       "      <td>0.319837</td>\n",
       "      <td>0.018147</td>\n",
       "      <td>0.547048</td>\n",
       "      <td>0.001091</td>\n",
       "      <td>0.001703</td>\n",
       "      <td>0.001379</td>\n",
       "      <td>0.000109</td>\n",
       "    </tr>\n",
       "    <tr>\n",
       "      <th>1</th>\n",
       "      <td>5.200218</td>\n",
       "      <td>0.057218</td>\n",
       "      <td>0.036102</td>\n",
       "      <td>1</td>\n",
       "      <td>1.013956e-02</td>\n",
       "      <td>0.009615</td>\n",
       "      <td>3.755242e-03</td>\n",
       "      <td>0.003091</td>\n",
       "      <td>2.536672e-03</td>\n",
       "      <td>8.126946e-03</td>\n",
       "      <td>...</td>\n",
       "      <td>0.009727</td>\n",
       "      <td>0.011023</td>\n",
       "      <td>0.006236</td>\n",
       "      <td>0.076368</td>\n",
       "      <td>0.083956</td>\n",
       "      <td>0.060421</td>\n",
       "      <td>0.031015</td>\n",
       "      <td>0.029672</td>\n",
       "      <td>0.010334</td>\n",
       "      <td>0.005170</td>\n",
       "    </tr>\n",
       "  </tbody>\n",
       "</table>\n",
       "<p>2 rows × 54 columns</p>\n",
       "</div>"
      ],
      "text/plain": [
       "     income      nu_1      nu_2  t           P_1       P_2           P_3  \\\n",
       "0  5.989803  1.942579 -0.827635  1  6.073427e-07  0.000018  8.380787e-07   \n",
       "1  5.200218  0.057218  0.036102  1  1.013956e-02  0.009615  3.755242e-03   \n",
       "\n",
       "        P_4           P_5           P_6  ...      P_41      P_42      P_43  \\\n",
       "0  0.000005  5.446349e-07  7.010009e-08  ...  0.000729  0.000018  0.000224   \n",
       "1  0.003091  2.536672e-03  8.126946e-03  ...  0.009727  0.011023  0.006236   \n",
       "\n",
       "       P_44      P_45      P_46      P_47      P_48      P_49      P_50  \n",
       "0  0.319837  0.018147  0.547048  0.001091  0.001703  0.001379  0.000109  \n",
       "1  0.076368  0.083956  0.060421  0.031015  0.029672  0.010334  0.005170  \n",
       "\n",
       "[2 rows x 54 columns]"
      ]
     },
     "execution_count": 9,
     "metadata": {},
     "output_type": "execute_result"
    }
   ],
   "source": [
    "example = calculate_s(delta_guess,theta,1)\n",
    "example[:2]"
   ]
  },
  {
   "cell_type": "markdown",
   "metadata": {},
   "source": [
    "## 1(d) Compute $S_{i,j,t}$\n",
    "I define a function generate_total_df which takes $\\bar\\alpha,\\beta_1,\\beta_2,\\gamma$ and $\\theta=(\\alpha^y,\\sigma_1,\\sigma_2)$. Also it's allowed to change market_data.\n",
    "\n",
    "The return is a CONSUMER data with 50 more prob columns. \n",
    "\n",
    "Basically, this is a mapping from $\\lambda=(\\bar\\alpha,\\beta_1,\\beta_2,\\gamma)$ and $\\theta=(\\alpha^y,\\sigma_1,\\sigma_2)$, to $s_{i,j,t} (\\lambda,\\theta)$. Can also write it as $S_{i,j,t} (\\delta,\\theta)$ since $\\delta$ is function of $\\lambda$.\n",
    "\n",
    "df1 and df2 are two df with $\\theta,\\theta'$, each column is a consumer, with 50 probabilitys. Haven't compare them yet"
   ]
  },
  {
   "cell_type": "code",
   "execution_count": 10,
   "metadata": {},
   "outputs": [],
   "source": [
    "def generate_total_df(bar_alpha,beta_1,beta_2,gamma,theta, market_data=MARKET_DATA):\n",
    "    \"\"\"here theta is 3x1 array for alpha^y,sigma1,sigma2\"\"\"\n",
    "    temp_df  = market_data[['price','sugar','caffeine','product_ID','t']]\n",
    "    temp_df['delta'] = temp_df['price']*bar_alpha+temp_df['sugar']*beta_1+temp_df['caffeine']*beta_2+gamma\n",
    "    total_df=pd.DataFrame()\n",
    "    for Temp_T in range(1,51):\n",
    "        small_df = temp_df[temp_df['t']==Temp_T]\n",
    "        delta_guess = small_df['delta'].values\n",
    "        temp_CONSUMER = calculate_s(delta_guess,theta,Temp_T)\n",
    "        total_df = pd.concat([total_df,temp_CONSUMER])\n",
    "    return total_df"
   ]
  },
  {
   "cell_type": "code",
   "execution_count": 11,
   "metadata": {},
   "outputs": [
    {
     "data": {
      "text/html": [
       "<div>\n",
       "<style scoped>\n",
       "    .dataframe tbody tr th:only-of-type {\n",
       "        vertical-align: middle;\n",
       "    }\n",
       "\n",
       "    .dataframe tbody tr th {\n",
       "        vertical-align: top;\n",
       "    }\n",
       "\n",
       "    .dataframe thead th {\n",
       "        text-align: right;\n",
       "    }\n",
       "</style>\n",
       "<table border=\"1\" class=\"dataframe\">\n",
       "  <thead>\n",
       "    <tr style=\"text-align: right;\">\n",
       "      <th></th>\n",
       "      <th>income</th>\n",
       "      <th>nu_1</th>\n",
       "      <th>nu_2</th>\n",
       "      <th>t</th>\n",
       "      <th>P_1</th>\n",
       "      <th>P_2</th>\n",
       "      <th>P_3</th>\n",
       "      <th>P_4</th>\n",
       "      <th>P_5</th>\n",
       "      <th>P_6</th>\n",
       "      <th>...</th>\n",
       "      <th>P_41</th>\n",
       "      <th>P_42</th>\n",
       "      <th>P_43</th>\n",
       "      <th>P_44</th>\n",
       "      <th>P_45</th>\n",
       "      <th>P_46</th>\n",
       "      <th>P_47</th>\n",
       "      <th>P_48</th>\n",
       "      <th>P_49</th>\n",
       "      <th>P_50</th>\n",
       "    </tr>\n",
       "  </thead>\n",
       "  <tbody>\n",
       "    <tr>\n",
       "      <th>0</th>\n",
       "      <td>5.989803</td>\n",
       "      <td>1.942579</td>\n",
       "      <td>-0.827635</td>\n",
       "      <td>1</td>\n",
       "      <td>9.436943e-07</td>\n",
       "      <td>0.000045</td>\n",
       "      <td>0.000003</td>\n",
       "      <td>0.000036</td>\n",
       "      <td>0.000002</td>\n",
       "      <td>1.886541e-07</td>\n",
       "      <td>...</td>\n",
       "      <td>0.002863</td>\n",
       "      <td>0.000041</td>\n",
       "      <td>0.001178</td>\n",
       "      <td>0.294781</td>\n",
       "      <td>0.009828</td>\n",
       "      <td>0.504508</td>\n",
       "      <td>0.001505</td>\n",
       "      <td>0.002688</td>\n",
       "      <td>0.004904</td>\n",
       "      <td>0.000557</td>\n",
       "    </tr>\n",
       "    <tr>\n",
       "      <th>1</th>\n",
       "      <td>5.200218</td>\n",
       "      <td>0.057218</td>\n",
       "      <td>0.036102</td>\n",
       "      <td>1</td>\n",
       "      <td>9.904330e-03</td>\n",
       "      <td>0.014984</td>\n",
       "      <td>0.007324</td>\n",
       "      <td>0.010580</td>\n",
       "      <td>0.005475</td>\n",
       "      <td>1.328932e-02</td>\n",
       "      <td>...</td>\n",
       "      <td>0.023466</td>\n",
       "      <td>0.015502</td>\n",
       "      <td>0.018879</td>\n",
       "      <td>0.057718</td>\n",
       "      <td>0.038110</td>\n",
       "      <td>0.044243</td>\n",
       "      <td>0.031092</td>\n",
       "      <td>0.033762</td>\n",
       "      <td>0.022756</td>\n",
       "      <td>0.014860</td>\n",
       "    </tr>\n",
       "  </tbody>\n",
       "</table>\n",
       "<p>2 rows × 54 columns</p>\n",
       "</div>"
      ],
      "text/plain": [
       "     income      nu_1      nu_2  t           P_1       P_2       P_3  \\\n",
       "0  5.989803  1.942579 -0.827635  1  9.436943e-07  0.000045  0.000003   \n",
       "1  5.200218  0.057218  0.036102  1  9.904330e-03  0.014984  0.007324   \n",
       "\n",
       "        P_4       P_5           P_6  ...      P_41      P_42      P_43  \\\n",
       "0  0.000036  0.000002  1.886541e-07  ...  0.002863  0.000041  0.001178   \n",
       "1  0.010580  0.005475  1.328932e-02  ...  0.023466  0.015502  0.018879   \n",
       "\n",
       "       P_44      P_45      P_46      P_47      P_48      P_49      P_50  \n",
       "0  0.294781  0.009828  0.504508  0.001505  0.002688  0.004904  0.000557  \n",
       "1  0.057718  0.038110  0.044243  0.031092  0.033762  0.022756  0.014860  \n",
       "\n",
       "[2 rows x 54 columns]"
      ]
     },
     "execution_count": 11,
     "metadata": {},
     "output_type": "execute_result"
    }
   ],
   "source": [
    "bar_alpha = -1\n",
    "beta_1=0.5\n",
    "beta_2=0.5\n",
    "gamma=-1.5\n",
    "df1 = generate_total_df(bar_alpha,beta_1,beta_2,gamma,theta=[0,0,0])\n",
    "df2 = generate_total_df(bar_alpha,beta_1,beta_2,gamma,theta=[0,1,1])\n",
    "df2[:2]"
   ]
  },
  {
   "cell_type": "markdown",
   "metadata": {},
   "source": [
    "## 1(e): estimate market share\n",
    "Now fix any t, given $\\delta,\\theta$, predict_share_from_delta_theta tells the expected market share $\\hat s_{jt}(\\delta,\\theta)$ for 50 brands, where the return is a 50-len pd.Series, index P_i. \n",
    "\n",
    "If you want a mapping from $\\delta,\\theta$ to share, just call predict_share_from_delta_theta. I use this function for later contraction mapping. \n",
    "\n",
    "Under the guessed theta, we get the correlation between market-average income and market-average price is 0.05, which is lower than the data.  So seems we under estimate bar_alpha."
   ]
  },
  {
   "cell_type": "code",
   "execution_count": 12,
   "metadata": {},
   "outputs": [
    {
     "name": "stdout",
     "output_type": "stream",
     "text": [
      "P_1    0.019854\n",
      "P_2    0.019854\n",
      "dtype: float64\n"
     ]
    }
   ],
   "source": [
    "global P_lis\n",
    "P_lis=[]\n",
    "for i in range(1,51):\n",
    "    P_lis.append('P_'+str(i))\n",
    "\n",
    "#focus on 1 market\n",
    "def predict_share_from_delta_theta(delta_guess,theta, Temp_T=1, market_data = MARKET_DATA, consumer=CONSUMER):\n",
    "    temp_consumer_data = calculate_s(delta_guess,theta, Temp_T,market_data, consumer)\n",
    "    ans = temp_consumer_data[P_lis].sum()/len(temp_consumer_data)\n",
    "    return ans\n",
    "\n",
    "#focus on all market\n",
    "def predict_share_from_nonlinear_theta(bar_alpha,beta_1,beta_2,gamma,theta, market_data = MARKET_DATA, consumer=CONSUMER): \n",
    "    total_df = generate_total_df(bar_alpha,beta_1,beta_2,gamma,theta,market_data)\n",
    "    ans = total_df[P_lis].sum()/len(total_df)\n",
    "    return ans\n",
    "\n",
    "\n",
    "dic_predict_share = predict_share_from_nonlinear_theta(bar_alpha,beta_1,beta_2,gamma,[0,0,0])\n",
    "\n",
    "dic_predict_share = predict_share_from_delta_theta(delta_guess,[0,0,0])\n",
    "\n",
    "print(dic_predict_share[:2])"
   ]
  },
  {
   "cell_type": "code",
   "execution_count": 13,
   "metadata": {},
   "outputs": [
    {
     "data": {
      "text/html": [
       "<div>\n",
       "<style scoped>\n",
       "    .dataframe tbody tr th:only-of-type {\n",
       "        vertical-align: middle;\n",
       "    }\n",
       "\n",
       "    .dataframe tbody tr th {\n",
       "        vertical-align: top;\n",
       "    }\n",
       "\n",
       "    .dataframe thead th {\n",
       "        text-align: right;\n",
       "    }\n",
       "</style>\n",
       "<table border=\"1\" class=\"dataframe\">\n",
       "  <thead>\n",
       "    <tr style=\"text-align: right;\">\n",
       "      <th></th>\n",
       "      <th>product_ID</th>\n",
       "      <th>price</th>\n",
       "      <th>sugar</th>\n",
       "      <th>caffeine</th>\n",
       "      <th>corn_syrup_price</th>\n",
       "      <th>caffeine_extract_price</th>\n",
       "      <th>quantity</th>\n",
       "      <th>t</th>\n",
       "      <th>market_share</th>\n",
       "      <th>predict_share</th>\n",
       "    </tr>\n",
       "  </thead>\n",
       "  <tbody>\n",
       "    <tr>\n",
       "      <th>0</th>\n",
       "      <td>1</td>\n",
       "      <td>2.021334</td>\n",
       "      <td>1.580856</td>\n",
       "      <td>6.074459</td>\n",
       "      <td>0.199022</td>\n",
       "      <td>0.264899</td>\n",
       "      <td>223</td>\n",
       "      <td>1</td>\n",
       "      <td>0.0223</td>\n",
       "      <td>0.011589</td>\n",
       "    </tr>\n",
       "    <tr>\n",
       "      <th>1</th>\n",
       "      <td>2</td>\n",
       "      <td>1.980251</td>\n",
       "      <td>3.033151</td>\n",
       "      <td>5.260598</td>\n",
       "      <td>0.199022</td>\n",
       "      <td>0.264899</td>\n",
       "      <td>39</td>\n",
       "      <td>1</td>\n",
       "      <td>0.0039</td>\n",
       "      <td>0.004070</td>\n",
       "    </tr>\n",
       "  </tbody>\n",
       "</table>\n",
       "</div>"
      ],
      "text/plain": [
       "   product_ID     price     sugar  caffeine  corn_syrup_price  \\\n",
       "0           1  2.021334  1.580856  6.074459          0.199022   \n",
       "1           2  1.980251  3.033151  5.260598          0.199022   \n",
       "\n",
       "   caffeine_extract_price  quantity  t  market_share  predict_share  \n",
       "0                0.264899       223  1        0.0223       0.011589  \n",
       "1                0.264899        39  1        0.0039       0.004070  "
      ]
     },
     "execution_count": 13,
     "metadata": {},
     "output_type": "execute_result"
    }
   ],
   "source": [
    "total_df = generate_total_df(bar_alpha,beta_1,beta_2,gamma,theta,market_data)\n",
    "\n",
    "by_t = total_df.groupby('t')[P_lis].sum()/500\n",
    "by_t=by_t.reset_index()\n",
    "\n",
    "# write a function, for market_data.apply, each column let get t and j= product_ID\n",
    "def get_P_j_from_market_data(row):\n",
    "    # write a function, take t, j, return (t,'P_j') element in by_t\n",
    "    def get_P_j(t,j):\n",
    "        t=int(t)\n",
    "        j=int(j)\n",
    "        return by_t[by_t['t']==t]['P_'+str(j)].values[0]\n",
    "    return get_P_j(row['t'],row['product_ID'])\n",
    "\n",
    "market_data['predict_share'] = market_data.apply(get_P_j_from_market_data,axis=1)\n",
    "market_data[:2]"
   ]
  },
  {
   "cell_type": "code",
   "execution_count": 14,
   "metadata": {},
   "outputs": [
    {
     "data": {
      "text/plain": [
       "0.19001487629480673"
      ]
     },
     "execution_count": 14,
     "metadata": {},
     "output_type": "execute_result"
    }
   ],
   "source": [
    "market_data['new']=market_data['price']*market_data['predict_share']\n",
    "p_double_prime = market_data.groupby('t')['new'].sum()/50\n",
    "\n",
    "y_bar = census_data.groupby('t')['income'].mean()\n",
    "\n",
    "# calculate correlation between avg_p and mean_y on ans1_df\n",
    "p_double_prime.corr(y_bar)\n",
    "# In true data it's 0.15, here it's 0.05 so seems we under estimate bar_alpha."
   ]
  },
  {
   "cell_type": "code",
   "execution_count": 15,
   "metadata": {},
   "outputs": [],
   "source": [
    "global delta_guess"
   ]
  },
  {
   "cell_type": "markdown",
   "metadata": {},
   "source": [
    "# 2\n",
    "\n",
    "## 2(a) Solve $\\delta(\\theta)$ by contraction mapping"
   ]
  },
  {
   "cell_type": "code",
   "execution_count": 16,
   "metadata": {},
   "outputs": [],
   "source": [
    "# return abs norm\n",
    "def calc_diff(a):\n",
    "    loss = 0\n",
    "    for i in list(a):\n",
    "        loss+=abs(i)\n",
    "    return loss\n",
    "\n",
    "# if tol =1e-4, use 8.8s, if 1e-8 use 16s, seems no big change\n",
    "def solve_delta_from_theta(theta, t, market_data = MARKET_DATA, consumer=CONSUMER, tol=1e-4):\n",
    "    \"\"\"Given theta and t, start from delta_guess, update delta_t(theta) until converge\"\"\"\n",
    "    global delta_guess\n",
    "    delta_late = delta_guess\n",
    "    diff = 1000\n",
    "    while diff>tol:\n",
    "        s_hat = list(predict_share_from_delta_theta(delta_late,theta, Temp_T=t,market_data=market_data,consumer=consumer))\n",
    "        real_s = list(market_data[market_data['t']==t]['market_share'])\n",
    "        delta_new = delta_late + np.log(real_s)-np.log(s_hat)\n",
    "        diff = calc_diff(delta_new-delta_late)\n",
    "        delta_late = delta_new\n",
    "    return delta_late\n"
   ]
  },
  {
   "cell_type": "code",
   "execution_count": 17,
   "metadata": {},
   "outputs": [
    {
     "data": {
      "text/plain": [
       "array([-3.500381  , -4.10675815])"
      ]
     },
     "execution_count": 17,
     "metadata": {},
     "output_type": "execute_result"
    }
   ],
   "source": [
    "solve_delta_from_theta(theta,t=1)[:2]"
   ]
  },
  {
   "cell_type": "markdown",
   "metadata": {},
   "source": [
    "## 2(b)\n",
    "fix t=1 and THETA=[0,1,1], repeat for 100 rounds, in each round, draw a new consumer data with 100 sample on market t=1, and get delta(THETA). Sum for analysis"
   ]
  },
  {
   "cell_type": "markdown",
   "metadata": {},
   "source": [
    "### 2(b).0, generate delta for each round"
   ]
  },
  {
   "cell_type": "code",
   "execution_count": 18,
   "metadata": {},
   "outputs": [],
   "source": [
    "#NEVER RUN AGAIN\n",
    "global TEMP_T,THETA, TOTAL_ROUND\n",
    "TEMP_T =1\n",
    "TOTAL_ROUND= 100\n",
    "THETA = [0,1,1]\n",
    "\n",
    "def draw_consumer(true_distribution, S, SEED):\n",
    "    np.random.seed(SEED)\n",
    "    income_distribution = np.random.choice(true_distribution, size=S, replace=True)\n",
    "\n",
    "    nu1 = np.random.normal(0,1,S)\n",
    "    nu2 = np.random.normal(0,1,S)\n",
    "    fake_consumer_sample = pd.DataFrame({'income': income_distribution,'nu_1':nu1, 'nu_2':nu2})\n",
    "    \n",
    "    return fake_consumer_sample\n",
    "\n",
    "def job_by_row(row, amount =100, seed_num =100000):\n",
    "    round =row['round']\n",
    "    temp_consumer_data = draw_consumer(census_data['income'].values, amount, SEED = seed_num+round)\n",
    "    temp_consumer_data['t'] = TEMP_T\n",
    "    temp_delta = solve_delta_from_theta(THETA, TEMP_T, market_data = MARKET_DATA, consumer=temp_consumer_data)\n",
    "    return temp_delta\n",
    "\n",
    "\n",
    "jobs = pd.DataFrame()\n",
    "jobs['round'] = range(TOTAL_ROUND)\n",
    "\n",
    "jobs['delta_dic']=jobs.parallel_apply(job_by_row,axis=1) \n",
    "\n",
    "dic = dict(jobs['delta_dic'])"
   ]
  },
  {
   "cell_type": "markdown",
   "metadata": {},
   "source": [
    "### 2(b).1, density of delta_1"
   ]
  },
  {
   "cell_type": "code",
   "execution_count": 19,
   "metadata": {},
   "outputs": [
    {
     "name": "stdout",
     "output_type": "stream",
     "text": [
      "(100, 50)\n"
     ]
    },
    {
     "data": {
      "image/png": "[encoded data removed]",
      "text/plain": [
       "<Figure size 640x480 with 1 Axes>"
      ]
     },
     "metadata": {},
     "output_type": "display_data"
    }
   ],
   "source": [
    "# ans=pd.read_pickle('ans2.pkl') # no longer need that after I speed up.\n",
    "ans = pd.DataFrame(dic).T\n",
    "\n",
    "print(ans.shape) # should be 50*100\n",
    "plt.hist(ans[0],bins=30, alpha=0.5, label='delta_1(t=1,Theta)', density=True)\n",
    "plt.title('Distribution of delta_1(t=1,Theta)')\n",
    "plt.show()"
   ]
  },
  {
   "cell_type": "markdown",
   "metadata": {},
   "source": [
    "### 2(b).2, 2(b).3, sample mean and variance"
   ]
  },
  {
   "cell_type": "code",
   "execution_count": 20,
   "metadata": {},
   "outputs": [
    {
     "name": "stdout",
     "output_type": "stream",
     "text": [
      "2.792906416824737 0.6962454618290845\n"
     ]
    }
   ],
   "source": [
    "sample_mean = ans[0].mean()\n",
    "sample_var = ans[0].var()\n",
    "print(sample_mean, sample_var)"
   ]
  },
  {
   "cell_type": "markdown",
   "metadata": {},
   "source": [
    "### 2(b).4 Try sample =500 repeat"
   ]
  },
  {
   "cell_type": "code",
   "execution_count": 21,
   "metadata": {},
   "outputs": [],
   "source": [
    "jobs = pd.DataFrame()\n",
    "jobs['round'] = range(TOTAL_ROUND)\n",
    "\n",
    "jobs['delta_dic']=jobs.parallel_apply(lambda x:job_by_row(x,amount=500, seed_num=200000),axis=1) \n",
    "\n",
    "dic = dict(jobs['delta_dic'])"
   ]
  },
  {
   "cell_type": "code",
   "execution_count": 22,
   "metadata": {},
   "outputs": [
    {
     "name": "stdout",
     "output_type": "stream",
     "text": [
      "(100, 50)\n"
     ]
    },
    {
     "data": {
      "image/png": "[encoded data removed]",
      "text/plain": [
       "<Figure size 640x480 with 1 Axes>"
      ]
     },
     "metadata": {},
     "output_type": "display_data"
    }
   ],
   "source": [
    "ans = pd.DataFrame(dic).T\n",
    "print(ans.shape) # should be 50*100\n",
    "plt.hist(ans[0],bins=30, alpha=0.5, label='delta_1(t=1,Theta)', density=True)\n",
    "plt.title('Distribution of delta_1(t=1,Theta)')\n",
    "plt.show()"
   ]
  },
  {
   "cell_type": "code",
   "execution_count": 23,
   "metadata": {},
   "outputs": [
    {
     "data": {
      "text/plain": [
       "(2.879128070100644, 0.17899809136960249)"
      ]
     },
     "execution_count": 23,
     "metadata": {},
     "output_type": "execute_result"
    }
   ],
   "source": [
    "sample_mean = ans[0].mean()\n",
    "sample_var = ans[0].var()\n",
    "sample_mean, sample_var"
   ]
  },
  {
   "cell_type": "markdown",
   "metadata": {},
   "source": [
    "# 3 Wrap up the estimation\n",
    "\n",
    "## 3(a) IV function construction\n",
    "I generate predict price, predict price times avg income, and $\\sum_{k}(caff_{kt}-caff_{it})^2$ and so for sugar, save in before Z matrix, without saving t and product ID indexes\n",
    "\n",
    "Z matrix will stack before_Z_matrix"
   ]
  },
  {
   "cell_type": "code",
   "execution_count": 24,
   "metadata": {},
   "outputs": [],
   "source": [
    "market_data = MARKET_DATA.copy()\n",
    "\n",
    "market_data['IV_syrup'] = market_data['sugar']*market_data['corn_syrup_price']\n",
    "market_data['IV_coffee'] = market_data['caffeine']*market_data['caffeine_extract_price']\n",
    "\n",
    "from statsmodels.regression.linear_model import OLS\n",
    "Y = market_data['price']\n",
    "X = sm.add_constant(market_data[['sugar','caffeine','IV_syrup','IV_coffee']])\n",
    "model = OLS(Y, X).fit()\n",
    "model.summary()\n",
    "\n",
    "market_data['predict_price'] = model.predict(X)  # predict_price is \\hat p\n",
    "market_data[['price','predict_price']].corr()\n",
    "\n",
    "mean_y_df = ans1_df[['mean_y']].reset_index()\n",
    "\n",
    "market_data = market_data.merge(mean_y_df, left_on='t', right_on='t')\n",
    "market_data['predict_price_income'] = market_data['predict_price']*market_data['mean_y'] # predict_price_income is \\hat p * y_bar\n",
    "# for j != product ID, calculate sum (caf_jt-caf_it)^2\n",
    "def get_caf_diff(row):\n",
    "    t = row['t']\n",
    "    j = row['product_ID']\n",
    "    caf_jt = row['caffeine']\n",
    "    caf_it = market_data[market_data['t']==t]['caffeine'].values\n",
    "    return sum((caf_jt-caf_it)**2)\n",
    "\n",
    "\n",
    "def get_sugar_diff(row):\n",
    "    t = row['t']\n",
    "    j = row['product_ID']\n",
    "    sugar_jt = row['sugar']\n",
    "    sugar_it = market_data[market_data['t']==t]['sugar'].values\n",
    "    return sum((sugar_jt-sugar_it)**2)\n",
    "\n",
    "market_data['caf_diff'] = market_data.apply(get_caf_diff,axis=1) # \\sum_k(caf_k-caf_i)^2\n",
    "market_data['sugar_diff'] = market_data.apply(get_sugar_diff,axis=1) # \\sum_k(sug_k-sug_i)^2\n",
    "\n",
    "before_Z_matrix  = market_data[['predict_price_income','predict_price','sugar_diff','caf_diff','sugar','caffeine']]\n",
    "before_Z_matrix['constant'] =1\n",
    "# re-order for match\n",
    "before_Z_matrix = before_Z_matrix[['constant','sugar','caffeine','predict_price','predict_price_income','caf_diff','sugar_diff']]"
   ]
  },
  {
   "cell_type": "markdown",
   "metadata": {},
   "source": [
    "## 3(b). Calculate Loss function given $\\tilde\\theta_2$"
   ]
  },
  {
   "cell_type": "code",
   "execution_count": 25,
   "metadata": {},
   "outputs": [],
   "source": [
    "from scipy.linalg import inv\n",
    "def calc_theta_1(X,Z,W,delta_vector):\n",
    "    left = X.T@Z@W@Z.T@X\n",
    "    right = X.T@Z@W@Z.T@delta_vector\n",
    "    return inv(left)@right"
   ]
  },
  {
   "cell_type": "code",
   "execution_count": 26,
   "metadata": {},
   "outputs": [
    {
     "name": "stdout",
     "output_type": "stream",
     "text": [
      "(7, 7)\n"
     ]
    }
   ],
   "source": [
    "\n",
    "Z =np.array(before_Z_matrix)\n",
    "\n",
    "W = inv(Z.T@ Z/2500)\n",
    "print(W.shape)\n",
    "\n",
    "before_X_matrix = market_data[['price','sugar','caffeine']]\n",
    "before_X_matrix['constant'] = 1\n",
    "X=np.array(before_X_matrix)\n"
   ]
  },
  {
   "cell_type": "code",
   "execution_count": 27,
   "metadata": {},
   "outputs": [
    {
     "name": "stdout",
     "output_type": "stream",
     "text": [
      "0.8599533165604321\n"
     ]
    }
   ],
   "source": [
    "THETA = [-0.5, 2, 2] #This is theta_2\n",
    "\n",
    "\n",
    "def calc_loss_q_value(THETA):\n",
    "    '''\n",
    "    This is a large map given theta_2, return delta(theta_2) [2500*1], q_value [1*1] and g_1_vector [7*1]\n",
    "    for each T I get a delta_t(theta_2) then concatenate them to get delta_vector\n",
    "    '''\n",
    "    jobs = pd.DataFrame()\n",
    "    jobs['t'] = range(1,51)\n",
    "    jobs['theta'] = [THETA]*50\n",
    "\n",
    "    def get_delta(row):\n",
    "        return solve_delta_from_theta(row['theta'],t=row['t'])\n",
    "\n",
    "\n",
    "    jobs['delta']=jobs.parallel_apply(get_delta,axis=1)  \n",
    "\n",
    "    delta_long = []\n",
    "    for i in list(jobs['delta']):\n",
    "        delta_long+=list(i)\n",
    "    #print(len(delta_long))\n",
    "\n",
    "    delta_vector = np.array(delta_long)\n",
    "    theta_1 = calc_theta_1(X,Z,W,delta_vector)\n",
    "    theta_1\n",
    "\n",
    "    [alpha_bar_hat, beta_1_bar_hat, beta_2_bar_hat, gamma_hat] = theta_1\n",
    "    \n",
    "    # estimate xi hat(theta_2)\n",
    "    P = MARKET_DATA['price']\n",
    "    Sugar = MARKET_DATA['sugar']\n",
    "    Caffeine = MARKET_DATA['caffeine']\n",
    "    Xi = delta_vector-alpha_bar_hat*P-beta_1_bar_hat*Sugar-beta_2_bar_hat*Caffeine-gamma_hat\n",
    "\n",
    "    g_1_vector = Z.T@Xi/2500\n",
    "    q_value = g_1_vector.T@W@g_1_vector\n",
    "    return [delta_long, q_value, g_1_vector]\n",
    "\n",
    "#jobs['delta']=jobs.apply(get_delta,axis=1)  \n",
    "# a for-loop takes around 15min=14.6s*50\n",
    "# apply takes 12min\n",
    "# parallel_apply takes 2min good\n",
    "\n",
    "[delta_long, q_value, g_1_vector] = calc_loss_q_value(THETA)\n",
    "print(q_value)"
   ]
  },
  {
   "cell_type": "code",
   "execution_count": 28,
   "metadata": {},
   "outputs": [],
   "source": [
    "global DELTA_for_THETA, DELTA_dict\n",
    "import copy\n",
    "DELTA_for_THETA = copy.deepcopy(delta_long)\n",
    "\n",
    "DELTA_dict = {}\n",
    "for i in range(50):\n",
    "    DELTA_dict[i+1] = DELTA_for_THETA[i*50:(i+1)*50]\n",
    "# This is the delta of THETA (given theta_2=[-0.5,2,2]), can use it to check delta_t = DELTA_dict[t]"
   ]
  },
  {
   "cell_type": "markdown",
   "metadata": {},
   "source": [
    "## 3(c). Compute analytic gradient\n",
    "\n",
    "Given \n",
    "$$\n",
    "\\hat{s}_{j t}\\left(\\delta_t, \\theta_2\\right) \\approx \\sum_{i \\in \\mathcal{S}_t} w_{i t} s_{i j t}=\\sum_{i \\in \\mathcal{S}_t} w_{i t} \\frac{\\exp \\left(\\delta_{j t}+\\mu_{i j t}\\left(\\theta_2\\right)\\right)}{1+\\sum_{k \\in J_t} \\exp \\left(\\delta_{k t}+\\mu_{i k t}\\left(\\theta_2\\right)\\right)}\n",
    "$$\n",
    "We should have for $j\\neq l$\n",
    "$$\n",
    "\\begin{aligned}\n",
    "\\partial \\hat s_{jt}/\\partial \\delta_{lt} = -1*\\sum_{i \\in \\mathcal{S}_t} w_{i t} \\frac{\\exp \\left(\\delta_{j t}+\\mu_{i j t}\\left(\\theta_2\\right)\\right)}{1+\\sum_{k \\in J_t} \\exp \\left(\\delta_{k t}+\\mu_{i k t}\\left(\\theta_2\\right)\\right)}* \\frac{\\exp \\left(\\delta_{l t}+\\mu_{i l t}\\left(\\theta_2\\right)\\right)}{1+\\sum_{k \\in J_t} \\exp \\left(\\delta_{k t}+\\mu_{i k t}\\left(\\theta_2\\right)\\right)}\\\\ = (\\sum_{i \\in \\mathcal{S}_t} -1*P_j*P_l)/500\n",
    "\\end{aligned}\n",
    "$$\n",
    "\n",
    "and if $j=l$ I need to add another term $P_j$\n"
   ]
  },
  {
   "cell_type": "code",
   "execution_count": 29,
   "metadata": {},
   "outputs": [],
   "source": [
    "example = calculate_s(delta_guess,theta,1) # just an example, delta is function of theta\n",
    "\n",
    "# input example is a consumer type data restricted on one market, with 50 columns of P_j, \n",
    "# return matrix dS/ddelta matrix only for period t. \n",
    "# t should be embeded in example: use t for correct example as input. \n",
    "def return_matrix_dshat_ddelta_period(example):\n",
    "    expected_share=list(example[P_lis].sum()/len(example))  # then I get a 50*1 vector P_j\n",
    "\n",
    "    # generate a 50*50 matrix, each is int -1* P_i*P_j dF(i)\n",
    "    def calculate_dsj_ddeltak(i,j,example):\n",
    "        example['new'] = example['P_'+str(i)]*example['P_'+str(j)]\n",
    "        return -1* example['new'].sum()/len(example)\n",
    "\n",
    "    matrix_dsj_ddeltak = np.zeros((50,50))\n",
    "    for i in range(1,51):\n",
    "        for j in range(1,51):\n",
    "            matrix_dsj_ddeltak[i-1,j-1] = calculate_dsj_ddeltak(i,j,example)\n",
    "\n",
    "    matrix_dsj_ddeltak.shape\n",
    "    # self derivative has another element int P_i dF(i)=expected share\n",
    "    another_matrix= np.zeros((50,50))\n",
    "    for i in range(1,51):\n",
    "        another_matrix[i-1,i-1] = expected_share[i-1]\n",
    "\n",
    "    another_matrix\n",
    "\n",
    "    matrix_dsj_ddeltak=matrix_dsj_ddeltak+another_matrix\n",
    "    return matrix_dsj_ddeltak\n",
    "\n",
    "# almost the same, just return sum_lis for calculations\n",
    "# I use this function only for generate the ``example'' input for return_matrix_dshat_ddelta_period\n",
    "def calculate_s_v2(delta_guess,theta, Temp_T=1, market_data=MARKET_DATA, CONSUMER=CONSUMER):\n",
    "    \"\"\"\n",
    "    Given delta_guess and theta, calculate s(prob that i choose j) for each consumer \n",
    "    input is only for Temp_T, I need Temp_T to pin down the market data\n",
    "    return: CONSUMER.query(t), with 50 new columns which tells the probability of choosing each product\n",
    "    \"\"\"\n",
    "    delta_input =np.array([0]+list(delta_guess))\n",
    "\n",
    "    [alpha, sigma1,sigma2] =theta\n",
    "\n",
    "    data1=market_data[['product_ID','price','sugar','caffeine','t']]\n",
    "    # generate a table with price_1,price_2,..price_10 for each t\n",
    "\n",
    "    temp_data=data1[data1['t']== Temp_T].drop(columns=['t'])\n",
    "    temp_CONSUMER = CONSUMER[CONSUMER['t']== Temp_T]\n",
    "    temp_data # data on t=1 market\n",
    "\n",
    "\n",
    "    p_row = temp_data[['price']].T #50x1 for 50 ID\n",
    "    sug_row = temp_data[['sugar']].T\n",
    "    caf_row = temp_data[['caffeine']].T\n",
    "    table1=pd.concat([p_row,sug_row,caf_row],axis=0)\n",
    "    table1\n",
    "\n",
    "    table2=temp_CONSUMER[['income','nu_1','nu_2']]\n",
    "    table2['income']=table2['income']*alpha\n",
    "    table2['nu_1']=table2['nu_1']*sigma1\n",
    "    table2['nu_2']=table2['nu_2']*sigma2\n",
    "    table2.shape, table1.shape #calculate table1*table2 in matrix\n",
    "    m1=np.array(table1)\n",
    "    m2=np.array(table2)\n",
    "    m = m2@m1\n",
    "    m.shape  # now I want CONSUMER add m as a new column\n",
    "    mu_lis=[]\n",
    "\n",
    "    for i in range(1,51):\n",
    "        temp_CONSUMER['mu_'+ str(i)] = m[:,i-1]\n",
    "        mu_lis.append('mu_'+ str(i))\n",
    "    temp_CONSUMER\n",
    "\n",
    "    sum_lis = []\n",
    "    for i in range(1,51):\n",
    "        temp_CONSUMER['exp_delta_plus_mu'+str(i)] = np.exp(temp_CONSUMER['mu_'+str(i)]+delta_input[i])\n",
    "        sum_lis.append('exp_delta_plus_mu'+str(i))\n",
    "    temp_CONSUMER['new'] = temp_CONSUMER[sum_lis].sum(axis=1)+1 #sum_k(exp(delta_k+mu_k))+1\n",
    "    temp_CONSUMER['new'] = np.log(temp_CONSUMER['new'])\n",
    "\n",
    "    P_lis=[]\n",
    "    for i in range(1,51):\n",
    "        temp_CONSUMER['P_'+str(i)] = temp_CONSUMER['mu_'+str(i)]+delta_input[i]-temp_CONSUMER['new']\n",
    "        temp_CONSUMER['P_'+str(i)]=np.exp(temp_CONSUMER['P_'+str(i)])\n",
    "        P_lis.append('P_'+str(i))\n",
    "    temp_CONSUMER[P_lis].sum(axis=1) # sum to around 1, good\n",
    "\n",
    "    # drop mu_lis and sum_lis\n",
    "    temp_CONSUMER=temp_CONSUMER.drop(columns=mu_lis)\n",
    "    #temp_CONSUMER=temp_CONSUMER.drop(columns=sum_lis)\n",
    "    temp_CONSUMER = temp_CONSUMER.drop(columns='new')\n",
    "\n",
    "\n",
    "    return temp_CONSUMER\n",
    "\n",
    "\n",
    "\n",
    "# This code is inefficient, but I don't use it so fine\n",
    "# should not calc delta again:  check DELTA_dict\n",
    "def generate_ds_ddelta_matrix(theta,t):\n",
    "    delta_of_theta = solve_delta_from_theta(theta=theta,t=t)\n",
    "    example = calculate_s(delta_of_theta, theta, t)\n",
    "    return return_matrix_dshat_ddelta_period(example)\n",
    "\n",
    "global sum_lis\n",
    "sum_lis = []\n",
    "for i in range(1,51):\n",
    "    sum_lis.append('exp_delta_plus_mu'+str(i))"
   ]
  },
  {
   "cell_type": "markdown",
   "metadata": {},
   "source": [
    "Then I calculate $\\partial \\hat s/\\partial \\theta_2 $ step by step\n",
    "\n",
    "$$\n",
    "\\partial \\hat s_{jt}/\\partial \\alpha = \\sum_{i \\in \\mathcal{S}_t} \\frac{1}{500} [ \\frac{\\exp \\left(\\delta_{j t}+\\mu_{i j t}\\left(\\theta_2\\right)\\right)}{1+\\sum_{k \\in J_t} \\exp \\left(\\delta_{k t}+\\mu_{i k t}\\left(\\theta_2\\right)\\right)}*\\frac{\\partial \\mu_{ijt}}{\\partial \\alpha}- \\frac{\\exp \\left(\\delta_{j t}+\\mu_{i j t}\\left(\\theta_2\\right)\\right)}{1+\\sum_{k \\in J_t} \\exp \\left(\\delta_{k t}+\\mu_{i k t}\\left(\\theta_2\\right)\\right)}*\\sum_k \\frac{\\exp \\left(\\delta_{k t}+\\mu_{i k t}\\left(\\theta_2\\right)\\right)}{1+\\sum_{k \\in J_t} \\exp \\left(\\delta_{k t}+\\mu_{i k t}\\left(\\theta_2\\right)\\right)}*\\frac{\\partial \\mu_{ikt}}{\\partial \\alpha}]\n",
    "$$\n",
    "Clearly I can let fix = income/nu_1/nu_2, and change for price/sug/caf\n",
    "\n",
    "$\\frac{\\partial \\mu_{ijt}}{\\partial \\alpha} = y_{it} p_{ijt}$\n",
    "\n",
    "$\\frac{\\partial \\mu_{ijt}}{\\partial \\sigma_1} = \\nu_{1it} sug_{ijt}$\n",
    "\n",
    "$\\frac{\\partial \\mu_{ijt}}{\\partial \\alpha} = \\nu_{2it} caf_{ijt}$\n",
    "\n",
    "$$\n",
    "\\partial \\hat s_{jt}/\\partial \\alpha = \\sum_{i \\in \\mathcal{S}_t} \\frac{1}{500} [ P_{ij} * y_{it} *p_{ijt} - P_{ij} *\\sum_{k} P_{ik} * y_{it} *p_{ikt} ]\n",
    "$$"
   ]
  },
  {
   "cell_type": "code",
   "execution_count": 30,
   "metadata": {},
   "outputs": [],
   "source": [
    "# return a 50*3 matrix, ds_dtheta = [ds_dalpha, ds_dsigma1, ds_dsigma2]\n",
    "def final_result_derive_theta(example, price_list, sug_list, caf_list, mode='alpha'):\n",
    "    # if mode is alpha, then calculate derivative of use yit*priceit\n",
    "    # if mode is sigma_1, then calculate derivative of use nu_1it*sugarit\n",
    "    # if mode is sigma_2, then calculate derivative of use nu_2it*caffeineit\n",
    "    exp_delta_lis = []\n",
    "    exp_list=[]\n",
    "    if mode == 'alpha':\n",
    "        fix = 'income'\n",
    "        change = 'price_'\n",
    "    elif mode == 'sigma_1':\n",
    "        fix = 'nu_1'\n",
    "        change = 'sugar_'\n",
    "    elif mode == 'sigma_2':\n",
    "        fix = 'nu_2'    \n",
    "        change = 'caffeine_'\n",
    "\n",
    "    for i in range(1,51):\n",
    "        example['price_'+str(i)] = price_list[i-1]\n",
    "        example['sugar_'+str(i)] = sug_list[i-1]\n",
    "        example['caffeine_'+str(i)] = caf_list[i-1]\n",
    "        example['exp_delta_'+str(i)] = example['exp_delta_plus_mu'+str(i)]*example[change+str(i)]*example[fix]\n",
    "        exp_delta_lis.append('exp_delta_'+str(i))\n",
    "        exp_list.append('exp_delta_plus_mu'+str(i))\n",
    "\n",
    "    example['numerator'] = example[exp_delta_lis].sum(axis=1)\n",
    "    example['denominator'] = example[exp_list].sum(axis=1)\n",
    "    example['denominator']= example['denominator']+1\n",
    "    example['new_share']=example['numerator']/example['denominator']\n",
    "\n",
    "    example1=example.drop(columns=exp_delta_lis).drop(columns=exp_list)\n",
    "    example1\n",
    "    ans_lis=[]\n",
    "    for i in range(1,51):\n",
    "        example1['left_'+str(i)] = example1['P_'+str(i)]*example1[change+str(i)]*example1[fix]\n",
    "        example1['right_'+str(i)] = example1['P_'+str(i)]*example1['new_share']\n",
    "        example1['ans_'+str(i)] = example1['left_'+str(i)]-example1['right_'+str(i)]\n",
    "        ans_lis.append('ans_'+str(i))\n",
    "    ds_dmode = example1[ans_lis].sum()\n",
    "    return ds_dmode\n",
    "\n",
    "\n",
    "def final_result_derive_theta_v2(example, price_list, sug_list, caf_list, mode='alpha'):\n",
    "    exp_delta_lis = []\n",
    "    exp_list=[]\n",
    "\n",
    "    if mode == 'alpha':\n",
    "        fix = 'income'\n",
    "        change = 'price_'\n",
    "    elif mode == 'sigma_1':\n",
    "        fix = 'nu_1'\n",
    "        change = 'sugar_'\n",
    "    elif mode == 'sigma_2':\n",
    "        fix = 'nu_2'    \n",
    "        change = 'caffeine_'\n",
    "\n",
    "    exp_delta_lis = []\n",
    "    exp_list=[]\n",
    "    right_mid_lis = []\n",
    "    ans_lis=[]\n",
    "        \n",
    "\n",
    "    for i in range(1,51):\n",
    "        right_mid_lis.append('right_mid_'+str(i))\n",
    "        ans_lis.append('ans_'+str(i))\n",
    "\n",
    "    for i in range(1,51):\n",
    "        example['price_'+str(i)] = price_list[i-1]\n",
    "        example['sugar_'+str(i)] = sug_list[i-1]\n",
    "        example['caffeine_'+str(i)] = caf_list[i-1]\n",
    "\n",
    "    for i in range(1,51):\n",
    "        example['left_'+str(i)] = example['P_'+str(i)]*example[fix]*example[change+str(i)]\n",
    "\n",
    "    for i in range(1,51):\n",
    "        example['right_mid_'+str(i)] = example['P_'+str(i)]*example[fix]*example[change+str(i)]\n",
    "\n",
    "    example['right_mid_sum'] = example[right_mid_lis].sum(axis=1)\n",
    "\n",
    "    for i in range(1,51):\n",
    "        example['right_'+str(i)] = example['P_'+str(i)]* example['right_mid_sum']\n",
    "\n",
    "    for i in range(1,51):\n",
    "        example['ans_'+str(i)] = example['left_'+str(i)]-example['right_'+str(i)]\n",
    "        \n",
    "    ds_dmode = example[ans_lis].sum()\n",
    "    return ds_dmode"
   ]
  },
  {
   "cell_type": "code",
   "execution_count": 31,
   "metadata": {},
   "outputs": [],
   "source": [
    "# generate the matrix ddelta_dtheta, for each T. Don't use this one until I fully debug what's wrong with it.\n",
    "def return_matrix_ddelta_dtheta(T,delta_dict = DELTA_dict):\n",
    "    delta_of_theta = delta_dict[T]\n",
    "    example = calculate_s_v2(delta_of_theta, theta=THETA, Temp_T=T)\n",
    "    market_data = MARKET_DATA[MARKET_DATA['t']==T]\n",
    "    temp_market  = market_data[['product_ID','price','sugar','caffeine']]\n",
    "    price_list = list(temp_market['price'])\n",
    "    caf_list = list(temp_market['caffeine'])\n",
    "    sug_list = list(temp_market['sugar'])\n",
    "\n",
    "    ans_alpha = final_result_derive_theta_v2(example, price_list, sug_list, caf_list, mode='alpha')\n",
    "    ans_sigma1 = final_result_derive_theta_v2(example, price_list, sug_list, caf_list, mode='sigma_1')\n",
    "    ans_sigma2 = final_result_derive_theta_v2(example, price_list, sug_list, caf_list, mode='sigma_2')\n",
    "\n",
    "    matrix_dsj_dtheta = np.array(pd.DataFrame([ans_alpha, ans_sigma1, ans_sigma2]).T)\n",
    "    matrix_dsj_ddeltak = return_matrix_dshat_ddelta_period(example)\n",
    "\n",
    "    matrix_ddelta_dtheta = -1*inv(matrix_dsj_ddeltak)@matrix_dsj_dtheta\n",
    "    return matrix_ddelta_dtheta\n",
    "\n",
    "\n"
   ]
  },
  {
   "cell_type": "code",
   "execution_count": 111,
   "metadata": {},
   "outputs": [],
   "source": [
    "# generate the matrix ddelta_dtheta, for each T. This one is correct, but I didn't find what's wrong with the previous one.\n",
    "def return_matrix_ddelta_dtheta_v2(T,delta_dict = DELTA_dict):\n",
    "    delta_of_theta = delta_dict[T]\n",
    "    example = calculate_s_v2(delta_of_theta, theta=THETA, Temp_T=T)\n",
    "    market_data = MARKET_DATA[MARKET_DATA['t']==T]\n",
    "    share_hat = np.matrix(example[P_lis])\n",
    "    share_hat.shape\n",
    "\n",
    "    shat_delta_derivative = -1 * np.dot(share_hat.T, share_hat) / 500\n",
    "    shat_delta_derivative[np.diag_indices(shat_delta_derivative.shape[0])] += np.mean(share_hat, axis=0)\n",
    "\n",
    "    income =np.matrix(example['income']).T\n",
    "    nu1 =np.matrix(example['nu_1']).T\n",
    "    nu2 =np.matrix(example['nu_2']).T\n",
    "\n",
    "    price = np.matrix(market_data['price']).T\n",
    "    sug = np.matrix(market_data['sugar']).T\n",
    "    caf = np.matrix(market_data['caffeine']).T\n",
    "\n",
    "    income_price_matrix = income @ price.T  # (500, 1) @ (50, 1).T = (500, 50)\n",
    "    weighted_share = np.multiply(share_hat, income_price_matrix )    # (500, 50) * (500, 50)\n",
    "    part1 = np.mean(weighted_share, axis=0)  # (50,)\n",
    "\n",
    "    P_p= share_hat @ price\n",
    "    I_P_p =np.multiply(income, P_p)\n",
    "    matrix = np.tile(np.array(I_P_p), (1, 50))\n",
    "    weight2 = np.multiply(share_hat,matrix)\n",
    "    part2 = np.mean(weight2, axis=0)  # (50,)\n",
    "\n",
    "    # # Step 5: 计算 shat_by_alpha\n",
    "    shat_by_alpha = part1 - part2\n",
    "\n",
    "\n",
    "    #  as.matrix(colMeans(share_hat * nu1 %*% t(sugar)) - colMeans(sweep(share_hat, 1, nu1 * (share_hat %*% sugar), '*')))\n",
    "\n",
    "    nu1_sug_matrix = nu1 @ sug.T  # (500, 1) @ (50, 1).T = (500, 50)\n",
    "    weighted_share = np.multiply(share_hat, nu1_sug_matrix)    # (500, 50) * (500, 50)\n",
    "    part1 = np.mean(weighted_share, axis=0)  # (50,)\n",
    "\n",
    "    P_p= share_hat @ sug\n",
    "    I_P_p =np.multiply(nu1, P_p)\n",
    "    matrix = np.tile(np.array(I_P_p), (1, 50))\n",
    "    weight2 = np.multiply(share_hat,matrix)\n",
    "    part2 = np.mean(weight2, axis=0)  # (50,)\n",
    "    shat_by_sigma1 = part1 - part2\n",
    "\n",
    "    nu2_caf_matrix = nu2 @ caf.T  # (500, 1) @ (50, 1).T = (500, 50)\n",
    "    weighted_share = np.multiply(share_hat, nu2_caf_matrix)    # (500, 50) * (500, 50)\n",
    "    part1 = np.mean(weighted_share, axis=0)  # (50,)\n",
    "    P_p= share_hat @ caf\n",
    "    I_P_p =np.multiply(nu2, P_p)\n",
    "    matrix = np.tile(np.array(I_P_p), (1, 50))\n",
    "    weight2 = np.multiply(share_hat,matrix)\n",
    "    part2 = np.mean(weight2, axis=0)  # (50,)\n",
    "    shat_by_sigma2 = part1 - part2\n",
    "\n",
    "    # # merge together \n",
    "    matrix_dsj_dtheta = np.column_stack((shat_by_alpha.T, shat_by_sigma1.T, shat_by_sigma2.T))\n",
    "\n",
    "    matrix_dsj_ddeltak = return_matrix_dshat_ddelta_period(example)\n",
    "\n",
    "    matrix_ddelta_dtheta = -1*inv(matrix_dsj_ddeltak)@matrix_dsj_dtheta\n",
    "\n",
    "    return matrix_ddelta_dtheta"
   ]
  },
  {
   "cell_type": "markdown",
   "metadata": {},
   "source": [
    "## 3(d) Evaluate at the specific $\\theta$"
   ]
  },
  {
   "cell_type": "code",
   "execution_count": 112,
   "metadata": {},
   "outputs": [
    {
     "name": "stdout",
     "output_type": "stream",
     "text": [
      "(2500, 3)\n",
      "[-1.8581287675603377, 0.43175369944575226, 0.21959439730806882]\n"
     ]
    }
   ],
   "source": [
    "# This part will finally be a function called calc_dq_analytic(theta)\n",
    "ans = return_matrix_ddelta_dtheta_v2(1)\n",
    "for T in range(2,51):\n",
    "    temp = return_matrix_ddelta_dtheta_v2(T)\n",
    "    ans = np.concatenate((ans,temp),axis=0)\n",
    "print(ans.shape)\n",
    "# And this for loop will be speed up in the formal function, don't worry\n",
    "\n",
    "matrix_dxi_dtheta = ans\n",
    "\n",
    "G_theta2 = 1/2500*Z.T@matrix_dxi_dtheta\n",
    "# G_theta2.shape\n",
    "# W.shape, g_1_vector.shape, G_theta2.shape\n",
    "\n",
    "dq_analytic = 2*G_theta2.T@W@g_1_vector\n",
    "\n",
    "dq_analytic = list(np.array(dq_analytic)[0])\n",
    "\n",
    "print(dq_analytic)"
   ]
  },
  {
   "cell_type": "markdown",
   "metadata": {},
   "source": [
    "## 3(f) Numerical Derivative"
   ]
  },
  {
   "cell_type": "code",
   "execution_count": 96,
   "metadata": {},
   "outputs": [],
   "source": [
    "epsilon  = 0.0001\n",
    "def calc_numerical_derivative(epsilon):\n",
    "    THETA1= [-0.5+epsilon, 2, 2]\n",
    "    [delta_long_1, q_value_1, g_1_vector_1] = calc_loss_q_value(THETA1)\n",
    "\n",
    "    THETA2= [-0.5, 2+epsilon, 2]\n",
    "    [delta_long_2, q_value_2, g_1_vector_2] = calc_loss_q_value(THETA2)\n",
    "\n",
    "    THETA3= [-0.5, 2, 2+epsilon]\n",
    "    [delta_long_3, q_value_3, g_1_vector_3] = calc_loss_q_value(THETA3)\n",
    "\n",
    "    dq_num = [(q_value_1-q_value)/epsilon,(q_value_2-q_value)/epsilon,(q_value_3-q_value)/epsilon]\n",
    "    return dq_num"
   ]
  },
  {
   "cell_type": "code",
   "execution_count": 97,
   "metadata": {},
   "outputs": [],
   "source": [
    "dq_num = calc_numerical_derivative(0.000001)"
   ]
  },
  {
   "cell_type": "code",
   "execution_count": 113,
   "metadata": {},
   "outputs": [
    {
     "data": {
      "text/plain": [
       "[1.0000015551857728, 1.0000807685785937, 1.0000465345278067]"
      ]
     },
     "execution_count": 113,
     "metadata": {},
     "output_type": "execute_result"
    }
   ],
   "source": [
    "[dq_analytic[i]/dq_num[i] for i in range(3)]  #expect this shows my analytical solution is correct?"
   ]
  },
  {
   "cell_type": "code",
   "execution_count": 36,
   "metadata": {},
   "outputs": [],
   "source": [
    "# for epsilon = 0.0001, dp = [-1.8579742068181027, 0.43087560155807836, 0.21873466319544121]\n",
    "# for epsilon = 0.000001, dp = [-1.8581258778294085, 0.4317188301294905, 0.21958417906198235]"
   ]
  },
  {
   "cell_type": "markdown",
   "metadata": {},
   "source": [
    "## 3(g) Optimize using analytical derivative"
   ]
  },
  {
   "cell_type": "code",
   "execution_count": null,
   "metadata": {},
   "outputs": [],
   "source": [
    "## I know the goal function f(theta) = lambda x: calc_loss_q_value(x)[1]\n",
    "## I know the gradient of f(theta)..  It should be an independent function with f(theta), But I need delta also. So I think I need to construct an diction from theta to its corresponding delta_dict.\n",
    "from scipy.optimize import minimize\n",
    "\n",
    "global THETA_DELTA_DICT, THETA_Q_DICT, THETA_g1_DICT\n",
    "THETA_DELTA_DICT = dict()\n",
    "THETA_Q_DICT=dict()\n",
    "THETA_g1_DICT = dict()"
   ]
  },
  {
   "cell_type": "code",
   "execution_count": 128,
   "metadata": {},
   "outputs": [],
   "source": [
    "# check whether this theta is calculated, if it is, return directly otherwise calculate and update\n",
    "def goal_function(theta):  # input theta is a list\n",
    "    if tuple(theta) in list(THETA_DELTA_DICT.keys()):\n",
    "        q_value = THETA_Q_DICT[tuple(theta)]\n",
    "    else:\n",
    "        [delta_long, q_value, g_1_vector] = calc_loss_q_value(theta)\n",
    "        delta_ = copy.deepcopy(delta_long)\n",
    "        delta_dict = {}\n",
    "        for i in range(50):\n",
    "            delta_dict[i+1] = delta_[i*50:(i+1)*50]\n",
    "        print('theta:',theta, 'is written into THETA_DELTA_DICT')\n",
    "        THETA_DELTA_DICT[tuple(theta)] = delta_dict\n",
    "        THETA_Q_DICT[tuple(theta)] = q_value\n",
    "        THETA_g1_DICT[tuple(theta)] = g_1_vector\n",
    "    return q_value\n",
    "\n",
    "\n",
    "def calc_matrix_dxi_dtheta(THETA1,DELTA_dict1):\n",
    "    jobs = pd.DataFrame()\n",
    "    jobs['t'] = range(1,51)\n",
    "    jobs['theta'] = [THETA1]*50\n",
    "    jobs['delta_dict'] = [DELTA_dict1]*50\n",
    "\n",
    "    def job_calc_ddelta_dtheta(row):\n",
    "        t = row['t']\n",
    "        theta = row['theta']\n",
    "        delta_dict = row['delta_dict']\n",
    "        return return_matrix_ddelta_dtheta_v2(t,delta_dict)\n",
    "\n",
    "    jobs['ddelta_dtheta'] = jobs.parallel_apply(job_calc_ddelta_dtheta, axis=1)\n",
    "\n",
    "    _ = list(jobs['ddelta_dtheta'])\n",
    "    ans = _[0]\n",
    "    for T in range(1,50):\n",
    "        temp = _[T]\n",
    "        ans = np.concatenate((ans,temp),axis=0)\n",
    "    #print(ans.shape)\n",
    "    return ans\n",
    "\n",
    "\n",
    "def calc_dq_analytic(theta):\n",
    "    def calc_dq_analytic_using_Theta_Delta(theta,delta_dict,g_1_vector):\n",
    "        matrix_dxi_dtheta = calc_matrix_dxi_dtheta(theta,delta_dict)\n",
    "        G_theta2 = 1/2500*Z.T@matrix_dxi_dtheta\n",
    "        dq_analytic = 2*G_theta2.T@W@g_1_vector\n",
    "        return dq_analytic\n",
    "\n",
    "    if tuple(theta) in list(THETA_DELTA_DICT.keys()):\n",
    "        delta_dict = THETA_DELTA_DICT[tuple(theta)]\n",
    "        g_1_vector = THETA_g1_DICT[tuple(theta)]\n",
    "    else:\n",
    "        [delta_long, q_value, g_1_vector] = calc_loss_q_value(theta)\n",
    "        delta_ = copy.deepcopy(delta_long)\n",
    "        delta_dict = {}\n",
    "        for i in range(50):\n",
    "            delta_dict[i+1] = delta_[i*50:(i+1)*50]\n",
    "        THETA_DELTA_DICT[tuple(theta)] = delta_dict\n",
    "        THETA_Q_DICT[tuple(theta)] = q_value\n",
    "        THETA_g1_DICT[tuple(theta)] = g_1_vector\n",
    "\n",
    "    return calc_dq_analytic_using_Theta_Delta(theta,delta_dict,g_1_vector)\n",
    "    \n",
    "def Goal_function(theta):\n",
    "    return goal_function(theta)\n",
    "\n",
    "def grad_Goal_function(theta):\n",
    "    dq_analytic = calc_dq_analytic(theta)\n",
    "    dq_analytic = list(np.array(dq_analytic)[0])\n",
    "    return dq_analytic"
   ]
  },
  {
   "cell_type": "code",
   "execution_count": 121,
   "metadata": {},
   "outputs": [
    {
     "name": "stdout",
     "output_type": "stream",
     "text": [
      "theta: [-0.5, 2, 2] is written into THETA_DELTA_DICT\n"
     ]
    },
    {
     "data": {
      "text/plain": [
       "(0.8599533165604321,\n",
       " [-1.8581287675603377, 0.43175369944575226, 0.21959439730806882])"
      ]
     },
     "execution_count": 121,
     "metadata": {},
     "output_type": "execute_result"
    }
   ],
   "source": [
    "theta1 = [-0.5,2,2]\n",
    "Goal_function(theta1),grad_Goal_function(theta1)"
   ]
  },
  {
   "cell_type": "code",
   "execution_count": 125,
   "metadata": {},
   "outputs": [
    {
     "name": "stdout",
     "output_type": "stream",
     "text": [
      "theta: [-0.5  1.   1. ] is written into THETA_DELTA_DICT\n",
      "theta: [0.50984184 0.98487134 0.99048276] is written into THETA_DELTA_DICT\n",
      "theta: [0.26083788 0.90616067 0.85231211] is written into THETA_DELTA_DICT\n",
      "theta: [0.02715526 0.95383121 0.82235424] is written into THETA_DELTA_DICT\n",
      "  message: Maximum number of iterations has been exceeded.\n",
      "  success: False\n",
      "   status: 1\n",
      "      fun: 0.006276891705830182\n",
      "        x: [ 2.716e-02  9.538e-01  8.224e-01]\n",
      "      nit: 3\n",
      "      jac: [-1.276e-01 -3.213e-02 -3.632e-02]\n",
      " hess_inv: [[ 3.659e-01 -1.383e-01 -1.638e-01]\n",
      "            [-1.383e-01  9.728e-01 -4.542e-02]\n",
      "            [-1.638e-01 -4.542e-02  9.530e-01]]\n",
      "     nfev: 4\n",
      "     njev: 4\n",
      "theta: [0.15471239 0.9859655  0.85867715] is written into THETA_DELTA_DICT\n",
      "theta: [0.07679467 0.96633641 0.83648946] is written into THETA_DELTA_DICT\n",
      "theta: [0.06805332 0.98819102 0.84812306] is written into THETA_DELTA_DICT\n",
      "theta: [0.0561736  1.07037044 0.89832048] is written into THETA_DELTA_DICT\n",
      "------ROUND: 0 ------\n",
      "  message: Maximum number of iterations has been exceeded.\n",
      "  success: False\n",
      "   status: 1\n",
      "      fun: 0.0007494547389135912\n",
      "        x: [ 5.617e-02  1.070e+00  8.983e-01]\n",
      "      nit: 3\n",
      "      jac: [-5.893e-02 -1.354e-03 -1.512e-02]\n",
      " hess_inv: [[ 1.790e-01 -2.047e-01 -2.935e-01]\n",
      "            [-2.047e-01  4.675e+00  2.471e+00]\n",
      "            [-2.935e-01  2.471e+00  2.621e+00]]\n",
      "     nfev: 5\n",
      "     njev: 5\n",
      "theta: [0.11509926 1.07172457 0.91343682] is written into THETA_DELTA_DICT\n",
      "theta: [0.07661039 1.07084008 0.90356318] is written into THETA_DELTA_DICT\n",
      "theta: [0.07506205 1.06856379 0.90732173] is written into THETA_DELTA_DICT\n",
      "theta: [0.0718778  1.05946251 0.924664  ] is written into THETA_DELTA_DICT\n",
      "------ROUND: 1 ------\n",
      "  message: Maximum number of iterations has been exceeded.\n",
      "  success: False\n",
      "   status: 1\n",
      "      fun: 2.4354499225948247e-05\n",
      "        x: [ 7.188e-02  1.059e+00  9.247e-01]\n",
      "      nit: 3\n",
      "      jac: [-7.589e-03 -7.704e-04 -2.836e-03]\n",
      " hess_inv: [[ 2.786e-01  2.096e-01 -7.746e-01]\n",
      "            [ 2.096e-01  2.212e+00 -2.607e+00]\n",
      "            [-7.746e-01 -2.607e+00  6.412e+00]]\n",
      "     nfev: 5\n",
      "     njev: 5\n",
      "theta: [0.07946701 1.0602329  0.92749954] is written into THETA_DELTA_DICT\n",
      "theta: [0.07477549 1.05975666 0.92574666] is written into THETA_DELTA_DICT\n",
      "theta: [0.07424031 1.05995778 0.926972  ] is written into THETA_DELTA_DICT\n",
      "theta: [0.07316579 1.06078336 0.9322301 ] is written into THETA_DELTA_DICT\n",
      "------ROUND: 2 ------\n",
      "  message: Maximum number of iterations has been exceeded.\n",
      "  success: False\n",
      "   status: 1\n",
      "      fun: 3.615620558344518e-06\n",
      "        x: [ 7.317e-02  1.061e+00  9.322e-01]\n",
      "      nit: 3\n",
      "      jac: [-3.614e-03 -1.607e-04 -1.110e-03]\n",
      " hess_inv: [[ 2.845e-01 -1.978e-01 -1.270e+00]\n",
      "            [-1.978e-01  1.182e+00  1.265e+00]\n",
      "            [-1.270e+00  1.265e+00  9.700e+00]]\n",
      "     nfev: 5\n",
      "     njev: 5\n"
     ]
    }
   ],
   "source": [
    "# try BFGS,then Newton\n",
    "x0=[-0.5,1,1]\n",
    "result = minimize(lambda x: Goal_function(x), x0, jac=lambda x: grad_Goal_function(x), method='BFGS', options={'maxiter': 3})\n",
    "print(result)\n",
    "\n",
    "for ROUND in range(3):\n",
    "    x1=result.x\n",
    "    result = minimize(lambda x: Goal_function(x), x1, jac=lambda x: grad_Goal_function(x), method='BFGS', options={'maxiter': 3})\n",
    "    print('------ROUND:',ROUND,'------')\n",
    "    print(result)\n",
    "\n",
    "# analytical BFGS：12 rounds 11m， goal around 3.615620558344518e-06， pretty good"
   ]
  },
  {
   "cell_type": "code",
   "execution_count": 130,
   "metadata": {},
   "outputs": [],
   "source": [
    "# # Newton  very slow, 3 rounds 22m\n",
    "# x0=[-0.5,1,1]\n",
    "# result = minimize(lambda x: Goal_function(x), x0, jac=lambda x: grad_Goal_function(x), method='Newton-CG', options={'maxiter': 3})\n",
    "# print(result)\n",
    "\n",
    "# for ROUND in range(3):\n",
    "#     x1=result.x\n",
    "#     result = minimize(lambda x: Goal_function(x), x1, jac=lambda x: grad_Goal_function(x), method='Newton-CG', options={'maxiter': 3})\n",
    "#     print('------ROUND:',ROUND,'------')\n",
    "#     print(result)\n"
   ]
  },
  {
   "cell_type": "code",
   "execution_count": 47,
   "metadata": {},
   "outputs": [
    {
     "name": "stdout",
     "output_type": "stream",
     "text": [
      "  message: Desired error not necessarily achieved due to precision loss.\n",
      "  success: False\n",
      "   status: 2\n",
      "      fun: 3.88420251757688e-13\n",
      "        x: [ 7.428e-02  1.060e+00  9.357e-01]\n",
      "      nit: 57\n",
      "      jac: [-7.713e-04 -5.692e-05 -1.273e-04]\n",
      " hess_inv: [[ 1.911e-04  5.080e-04 -5.433e-04]\n",
      "            [ 5.080e-04  8.632e-03  1.882e-04]\n",
      "            [-5.433e-04  1.882e-04  1.592e-02]]\n",
      "     nfev: 442\n",
      "     njev: 435\n"
     ]
    }
   ],
   "source": [
    "x1 = [ 7.457e-02,  1.043e+00,  9.138e-01]\n",
    "result_analytical = minimize(lambda x: Goal_function(x), x1, jac=lambda x: grad_Goal_function(x), method='BFGS', tol=1e-4,  options={'maxiter': 100})\n",
    "print(result_analytical)"
   ]
  },
  {
   "cell_type": "markdown",
   "metadata": {},
   "source": [
    "## 3(g)-2 Optimize using numerical derivatives"
   ]
  },
  {
   "cell_type": "code",
   "execution_count": 131,
   "metadata": {},
   "outputs": [
    {
     "name": "stdout",
     "output_type": "stream",
     "text": [
      "theta: [-0.49999999  1.          1.        ] is written into THETA_DELTA_DICT\n",
      "theta: [-0.5         1.00000001  1.        ] is written into THETA_DELTA_DICT\n",
      "theta: [-0.5         1.          1.00000001] is written into THETA_DELTA_DICT\n",
      "theta: [0.50906249 0.95651768 0.99852346] is written into THETA_DELTA_DICT\n",
      "theta: [0.5090625  0.95651768 0.99852346] is written into THETA_DELTA_DICT\n",
      "theta: [0.50906249 0.95651769 0.99852346] is written into THETA_DELTA_DICT\n",
      "theta: [0.50906249 0.95651768 0.99852348] is written into THETA_DELTA_DICT\n",
      "theta: [0.20755289 0.98837429 0.99200593] is written into THETA_DELTA_DICT\n",
      "theta: [0.20755291 0.98837429 0.99200593] is written into THETA_DELTA_DICT\n",
      "theta: [0.20755289 0.98837431 0.99200593] is written into THETA_DELTA_DICT\n",
      "theta: [0.20755289 0.98837429 0.99200594] is written into THETA_DELTA_DICT\n",
      "theta: [0.06942953 1.0278892  0.97281935] is written into THETA_DELTA_DICT\n",
      "theta: [0.06942954 1.0278892  0.97281935] is written into THETA_DELTA_DICT\n",
      "theta: [0.06942953 1.02788921 0.97281935] is written into THETA_DELTA_DICT\n",
      "theta: [0.06942953 1.0278892  0.97281937] is written into THETA_DELTA_DICT\n",
      "  message: Maximum number of iterations has been exceeded.\n",
      "  success: False\n",
      "   status: 1\n",
      "      fun: 0.00038668661287033187\n",
      "        x: [ 6.943e-02  1.028e+00  9.728e-01]\n",
      "      nit: 3\n",
      "      jac: [-7.532e-03 -1.213e-02  9.335e-03]\n",
      " hess_inv: [[ 3.264e-01 -2.036e-03  2.839e-02]\n",
      "            [-2.036e-03  1.018e+00 -1.173e-02]\n",
      "            [ 2.839e-02 -1.173e-02  1.007e+00]]\n",
      "     nfev: 16\n",
      "     njev: 4\n",
      "theta: [0.07696123 1.04001803 0.96348398] is written into THETA_DELTA_DICT\n",
      "theta: [0.07696125 1.04001803 0.96348398] is written into THETA_DELTA_DICT\n",
      "theta: [0.07696123 1.04001804 0.96348398] is written into THETA_DELTA_DICT\n",
      "theta: [0.07696123 1.04001803 0.96348399] is written into THETA_DELTA_DICT\n",
      "theta: [0.07367272 1.06300042 0.94532985] is written into THETA_DELTA_DICT\n",
      "theta: [0.07367273 1.06300042 0.94532985] is written into THETA_DELTA_DICT\n",
      "theta: [0.07367272 1.06300044 0.94532985] is written into THETA_DELTA_DICT\n",
      "theta: [0.07367272 1.06300042 0.94532986] is written into THETA_DELTA_DICT\n",
      "theta: [0.07442092 1.06354198 0.94162016] is written into THETA_DELTA_DICT\n",
      "theta: [0.07442093 1.06354198 0.94162016] is written into THETA_DELTA_DICT\n",
      "theta: [0.07442092 1.06354199 0.94162016] is written into THETA_DELTA_DICT\n",
      "theta: [0.07442092 1.06354198 0.94162018] is written into THETA_DELTA_DICT\n",
      "------ROUND: 0 ------\n",
      "  message: Maximum number of iterations has been exceeded.\n",
      "  success: False\n",
      "   status: 1\n",
      "      fun: 6.037208259214426e-06\n",
      "        x: [ 7.442e-02  1.064e+00  9.416e-01]\n",
      "      nit: 3\n",
      "      jac: [ 6.560e-05  1.138e-03  1.437e-03]\n",
      " hess_inv: [[ 2.996e-01 -2.498e-02 -1.640e-01]\n",
      "            [-2.498e-02  1.859e+00 -4.557e-01]\n",
      "            [-1.640e-01 -4.557e-01  3.739e+00]]\n",
      "     nfev: 16\n",
      "     njev: 4\n",
      "theta: [0.07435532 1.06240427 0.94018277] is written into THETA_DELTA_DICT\n",
      "theta: [0.07435534 1.06240427 0.94018277] is written into THETA_DELTA_DICT\n",
      "theta: [0.07435532 1.06240428 0.94018277] is written into THETA_DELTA_DICT\n",
      "theta: [0.07435532 1.06240427 0.94018278] is written into THETA_DELTA_DICT\n",
      "theta: [0.07426628 1.05994392 0.93648014] is written into THETA_DELTA_DICT\n",
      "theta: [0.07426629 1.05994392 0.93648014] is written into THETA_DELTA_DICT\n",
      "theta: [0.07426628 1.05994393 0.93648014] is written into THETA_DELTA_DICT\n",
      "theta: [0.07426628 1.05994392 0.93648015] is written into THETA_DELTA_DICT\n",
      "theta: [0.07418065 1.06001341 0.93609985] is written into THETA_DELTA_DICT\n",
      "theta: [0.07418067 1.06001341 0.93609985] is written into THETA_DELTA_DICT\n",
      "theta: [0.07418065 1.06001342 0.93609985] is written into THETA_DELTA_DICT\n",
      "theta: [0.07418065 1.06001341 0.93609987] is written into THETA_DELTA_DICT\n",
      "------ROUND: 1 ------\n",
      "  message: Maximum number of iterations has been exceeded.\n",
      "  success: False\n",
      "   status: 1\n",
      "      fun: 5.652438194554453e-08\n",
      "        x: [ 7.418e-02  1.060e+00  9.361e-01]\n",
      "      nit: 3\n",
      "      jac: [-2.087e-04 -1.376e-04  9.652e-05]\n",
      " hess_inv: [[ 5.277e-01  5.673e-02 -6.410e-01]\n",
      "            [ 5.673e-02  1.914e+00  1.988e-02]\n",
      "            [-6.410e-01  1.988e-02  5.796e+00]]\n",
      "     nfev: 16\n",
      "     njev: 4\n",
      "theta: [0.0743894  1.060151   0.93600334] is written into THETA_DELTA_DICT\n",
      "theta: [0.07438942 1.060151   0.93600334] is written into THETA_DELTA_DICT\n",
      "theta: [0.0743894  1.06015102 0.93600334] is written into THETA_DELTA_DICT\n",
      "theta: [0.0743894  1.060151   0.93600335] is written into THETA_DELTA_DICT\n",
      "theta: [0.07436641 1.06018373 0.93598118] is written into THETA_DELTA_DICT\n",
      "theta: [0.07436643 1.06018373 0.93598118] is written into THETA_DELTA_DICT\n",
      "theta: [0.07436641 1.06018375 0.93598118] is written into THETA_DELTA_DICT\n",
      "theta: [0.07436641 1.06018373 0.9359812 ] is written into THETA_DELTA_DICT\n",
      "theta: [0.07432859 1.06027853 0.93590626] is written into THETA_DELTA_DICT\n",
      "theta: [0.07432861 1.06027853 0.93590626] is written into THETA_DELTA_DICT\n",
      "theta: [0.07432859 1.06027854 0.93590626] is written into THETA_DELTA_DICT\n",
      "theta: [0.07432859 1.06027853 0.93590627] is written into THETA_DELTA_DICT\n",
      "------ROUND: 2 ------\n",
      "  message: Maximum number of iterations has been exceeded.\n",
      "  success: False\n",
      "   status: 1\n",
      "      fun: 1.370231667192858e-08\n",
      "        x: [ 7.433e-02  1.060e+00  9.359e-01]\n",
      "      nit: 3\n",
      "      jac: [ 1.807e-04 -6.111e-05  5.235e-05]\n",
      " hess_inv: [[ 2.989e-01  6.890e-02  3.301e-02]\n",
      "            [ 6.890e-02  1.972e+00 -8.130e-01]\n",
      "            [ 3.301e-02 -8.130e-01  1.675e+00]]\n",
      "     nfev: 16\n",
      "     njev: 4\n"
     ]
    }
   ],
   "source": [
    "# try BFGS for num\n",
    "x0=[-0.5,1,1]\n",
    "result = minimize(lambda x: Goal_function(x), x0, method='BFGS', options={'maxiter': 3})\n",
    "print(result)\n",
    "\n",
    "for ROUND in range(3):\n",
    "    x1=result.x\n",
    "    result = minimize(lambda x: Goal_function(x), x1,  method='BFGS', options={'maxiter': 3})\n",
    "    print('------ROUND:',ROUND,'------')\n",
    "    print(result)\n",
    "\n",
    "# numerical BFGS：12 rounds 34m， goal around 1.370231667192858e-08， pretty good, a little bit slower than analytical,\n",
    "# but not sure whether it's because in numerical deriv calculation it can not use parallel: just 3 times longer?"
   ]
  },
  {
   "cell_type": "code",
   "execution_count": 51,
   "metadata": {},
   "outputs": [
    {
     "data": {
      "text/plain": [
       "  message: Maximum number of iterations has been exceeded.\n",
       "  success: False\n",
       "   status: 1\n",
       "      fun: 6.037208259214426e-06\n",
       "        x: [ 7.442e-02  1.064e+00  9.416e-01]\n",
       "      nit: 3\n",
       "      jac: [ 6.560e-05  1.138e-03  1.437e-03]\n",
       " hess_inv: [[ 2.996e-01 -2.498e-02 -1.640e-01]\n",
       "            [-2.498e-02  1.859e+00 -4.557e-01]\n",
       "            [-1.640e-01 -4.557e-01  3.739e+00]]\n",
       "     nfev: 16\n",
       "     njev: 4"
      ]
     },
     "execution_count": 51,
     "metadata": {},
     "output_type": "execute_result"
    }
   ],
   "source": [
    "x1=result.x\n",
    "result = minimize(lambda x: Goal_function(x), x1, method='BFGS', options={'maxiter': 3})\n",
    "result"
   ]
  },
  {
   "cell_type": "code",
   "execution_count": 42,
   "metadata": {},
   "outputs": [],
   "source": [
    "x1=[ 7.442e-02  , 1.064e+00  , 9.416e-01]\n",
    "result = minimize(lambda x: Goal_function(x), x1, method='BFGS', tol=1e-4)"
   ]
  },
  {
   "cell_type": "code",
   "execution_count": 44,
   "metadata": {},
   "outputs": [
    {
     "data": {
      "text/plain": [
       "  message: Optimization terminated successfully.\n",
       "  success: True\n",
       "   status: 0\n",
       "      fun: 4.880275537456664e-09\n",
       "        x: [ 7.429e-02  1.060e+00  9.359e-01]\n",
       "      nit: 5\n",
       "      jac: [ 3.523e-05 -1.158e-05  4.788e-05]\n",
       " hess_inv: [[ 3.397e-01  1.711e-01 -1.110e-01]\n",
       "            [ 1.711e-01  2.647e+00  2.394e-01]\n",
       "            [-1.110e-01  2.394e-01  2.524e+00]]\n",
       "     nfev: 28\n",
       "     njev: 7"
      ]
     },
     "execution_count": 44,
     "metadata": {},
     "output_type": "execute_result"
    }
   ],
   "source": [
    "result"
   ]
  },
  {
   "cell_type": "markdown",
   "metadata": {},
   "source": [
    "## Divinity Check\n"
   ]
  },
  {
   "cell_type": "code",
   "execution_count": 28,
   "metadata": {},
   "outputs": [
    {
     "data": {
      "text/html": [
       "<div>\n",
       "<style scoped>\n",
       "    .dataframe tbody tr th:only-of-type {\n",
       "        vertical-align: middle;\n",
       "    }\n",
       "\n",
       "    .dataframe tbody tr th {\n",
       "        vertical-align: top;\n",
       "    }\n",
       "\n",
       "    .dataframe thead th {\n",
       "        text-align: right;\n",
       "    }\n",
       "</style>\n",
       "<table border=\"1\" class=\"dataframe\">\n",
       "  <thead>\n",
       "    <tr style=\"text-align: right;\">\n",
       "      <th></th>\n",
       "      <th>product_ID</th>\n",
       "      <th>price</th>\n",
       "      <th>sugar</th>\n",
       "      <th>caffeine</th>\n",
       "      <th>corn_syrup_price</th>\n",
       "      <th>caffeine_extract_price</th>\n",
       "      <th>quantity</th>\n",
       "      <th>t</th>\n",
       "      <th>market_share</th>\n",
       "      <th>weighted_price</th>\n",
       "    </tr>\n",
       "  </thead>\n",
       "  <tbody>\n",
       "    <tr>\n",
       "      <th>0</th>\n",
       "      <td>1</td>\n",
       "      <td>2.021334</td>\n",
       "      <td>1.580856</td>\n",
       "      <td>6.074459</td>\n",
       "      <td>0.199022</td>\n",
       "      <td>0.264899</td>\n",
       "      <td>223</td>\n",
       "      <td>1</td>\n",
       "      <td>0.0223</td>\n",
       "      <td>0.045076</td>\n",
       "    </tr>\n",
       "    <tr>\n",
       "      <th>1</th>\n",
       "      <td>2</td>\n",
       "      <td>1.980251</td>\n",
       "      <td>3.033151</td>\n",
       "      <td>5.260598</td>\n",
       "      <td>0.199022</td>\n",
       "      <td>0.264899</td>\n",
       "      <td>39</td>\n",
       "      <td>1</td>\n",
       "      <td>0.0039</td>\n",
       "      <td>0.007723</td>\n",
       "    </tr>\n",
       "    <tr>\n",
       "      <th>2</th>\n",
       "      <td>3</td>\n",
       "      <td>1.655560</td>\n",
       "      <td>1.718876</td>\n",
       "      <td>4.685728</td>\n",
       "      <td>0.199022</td>\n",
       "      <td>0.264899</td>\n",
       "      <td>83</td>\n",
       "      <td>1</td>\n",
       "      <td>0.0083</td>\n",
       "      <td>0.013741</td>\n",
       "    </tr>\n",
       "    <tr>\n",
       "      <th>3</th>\n",
       "      <td>4</td>\n",
       "      <td>1.566470</td>\n",
       "      <td>2.637858</td>\n",
       "      <td>4.250370</td>\n",
       "      <td>0.199022</td>\n",
       "      <td>0.264899</td>\n",
       "      <td>16</td>\n",
       "      <td>1</td>\n",
       "      <td>0.0016</td>\n",
       "      <td>0.002506</td>\n",
       "    </tr>\n",
       "    <tr>\n",
       "      <th>4</th>\n",
       "      <td>5</td>\n",
       "      <td>1.517629</td>\n",
       "      <td>1.476214</td>\n",
       "      <td>4.137802</td>\n",
       "      <td>0.199022</td>\n",
       "      <td>0.264899</td>\n",
       "      <td>141</td>\n",
       "      <td>1</td>\n",
       "      <td>0.0141</td>\n",
       "      <td>0.021399</td>\n",
       "    </tr>\n",
       "    <tr>\n",
       "      <th>...</th>\n",
       "      <td>...</td>\n",
       "      <td>...</td>\n",
       "      <td>...</td>\n",
       "      <td>...</td>\n",
       "      <td>...</td>\n",
       "      <td>...</td>\n",
       "      <td>...</td>\n",
       "      <td>...</td>\n",
       "      <td>...</td>\n",
       "      <td>...</td>\n",
       "    </tr>\n",
       "    <tr>\n",
       "      <th>2495</th>\n",
       "      <td>46</td>\n",
       "      <td>2.368628</td>\n",
       "      <td>3.699026</td>\n",
       "      <td>5.598460</td>\n",
       "      <td>0.210564</td>\n",
       "      <td>0.255062</td>\n",
       "      <td>252</td>\n",
       "      <td>50</td>\n",
       "      <td>0.0252</td>\n",
       "      <td>0.059689</td>\n",
       "    </tr>\n",
       "    <tr>\n",
       "      <th>2496</th>\n",
       "      <td>47</td>\n",
       "      <td>1.719465</td>\n",
       "      <td>4.031755</td>\n",
       "      <td>3.961574</td>\n",
       "      <td>0.210564</td>\n",
       "      <td>0.255062</td>\n",
       "      <td>12</td>\n",
       "      <td>50</td>\n",
       "      <td>0.0012</td>\n",
       "      <td>0.002063</td>\n",
       "    </tr>\n",
       "    <tr>\n",
       "      <th>2497</th>\n",
       "      <td>48</td>\n",
       "      <td>2.529186</td>\n",
       "      <td>7.770437</td>\n",
       "      <td>3.606250</td>\n",
       "      <td>0.210564</td>\n",
       "      <td>0.255062</td>\n",
       "      <td>1158</td>\n",
       "      <td>50</td>\n",
       "      <td>0.1158</td>\n",
       "      <td>0.292880</td>\n",
       "    </tr>\n",
       "    <tr>\n",
       "      <th>2498</th>\n",
       "      <td>49</td>\n",
       "      <td>1.674552</td>\n",
       "      <td>3.751779</td>\n",
       "      <td>3.642175</td>\n",
       "      <td>0.210564</td>\n",
       "      <td>0.255062</td>\n",
       "      <td>30</td>\n",
       "      <td>50</td>\n",
       "      <td>0.0030</td>\n",
       "      <td>0.005024</td>\n",
       "    </tr>\n",
       "    <tr>\n",
       "      <th>2499</th>\n",
       "      <td>50</td>\n",
       "      <td>2.017268</td>\n",
       "      <td>3.825394</td>\n",
       "      <td>4.590952</td>\n",
       "      <td>0.210564</td>\n",
       "      <td>0.255062</td>\n",
       "      <td>63</td>\n",
       "      <td>50</td>\n",
       "      <td>0.0063</td>\n",
       "      <td>0.012709</td>\n",
       "    </tr>\n",
       "  </tbody>\n",
       "</table>\n",
       "<p>2500 rows × 10 columns</p>\n",
       "</div>"
      ],
      "text/plain": [
       "      product_ID     price     sugar  caffeine  corn_syrup_price  \\\n",
       "0              1  2.021334  1.580856  6.074459          0.199022   \n",
       "1              2  1.980251  3.033151  5.260598          0.199022   \n",
       "2              3  1.655560  1.718876  4.685728          0.199022   \n",
       "3              4  1.566470  2.637858  4.250370          0.199022   \n",
       "4              5  1.517629  1.476214  4.137802          0.199022   \n",
       "...          ...       ...       ...       ...               ...   \n",
       "2495          46  2.368628  3.699026  5.598460          0.210564   \n",
       "2496          47  1.719465  4.031755  3.961574          0.210564   \n",
       "2497          48  2.529186  7.770437  3.606250          0.210564   \n",
       "2498          49  1.674552  3.751779  3.642175          0.210564   \n",
       "2499          50  2.017268  3.825394  4.590952          0.210564   \n",
       "\n",
       "      caffeine_extract_price  quantity   t  market_share  weighted_price  \n",
       "0                   0.264899       223   1        0.0223        0.045076  \n",
       "1                   0.264899        39   1        0.0039        0.007723  \n",
       "2                   0.264899        83   1        0.0083        0.013741  \n",
       "3                   0.264899        16   1        0.0016        0.002506  \n",
       "4                   0.264899       141   1        0.0141        0.021399  \n",
       "...                      ...       ...  ..           ...             ...  \n",
       "2495                0.255062       252  50        0.0252        0.059689  \n",
       "2496                0.255062        12  50        0.0012        0.002063  \n",
       "2497                0.255062      1158  50        0.1158        0.292880  \n",
       "2498                0.255062        30  50        0.0030        0.005024  \n",
       "2499                0.255062        63  50        0.0063        0.012709  \n",
       "\n",
       "[2500 rows x 10 columns]"
      ]
     },
     "execution_count": 28,
     "metadata": {},
     "output_type": "execute_result"
    }
   ],
   "source": [
    "census_data = pd.read_csv('consumer_census.csv')\n",
    "# groupby t, get the mean and variance of income. Do that for me\n",
    "income_mean_variance_df = census_data.groupby('t')['income'].agg(['mean', 'var'])\n",
    "#income_mean_variance_df.loc[1:3]\n",
    "ans1_df = income_mean_variance_df\n",
    "ans1_df.columns=['mean_y', 'var_y']\n",
    "\n",
    "MARKET_DATA = pd.read_csv('product_data_ps2.csv')\n",
    "MARKET_DATA['weighted_price']= MARKET_DATA['price']*MARKET_DATA['market_share']\n",
    "ans1_df['avg_p'] = MARKET_DATA.groupby('t')['weighted_price'].agg(['sum'])\n",
    "# drop weighted_price in market_data\n",
    "market_data = MARKET_DATA.drop(columns=['weighted_price'])\n",
    "ans1_df[:4]\n",
    "\n",
    "MARKET_DATA"
   ]
  },
  {
   "cell_type": "code",
   "execution_count": 29,
   "metadata": {},
   "outputs": [],
   "source": [
    "theta_2 = [ 7.429e-02,  1.060e+00,  9.359e-01]\n",
    "\n",
    "[delta_long, q_value, g_1_vector] = calc_loss_q_value(theta_2)"
   ]
  },
  {
   "cell_type": "code",
   "execution_count": 30,
   "metadata": {},
   "outputs": [],
   "source": [
    "global DELTA_for_THETA, DELTA_dict\n",
    "import copy\n",
    "DELTA_for_THETA = copy.deepcopy(delta_long)\n",
    "\n",
    "DELTA_dict = {}\n",
    "for i in range(50):\n",
    "    DELTA_dict[i+1] = DELTA_for_THETA[i*50:(i+1)*50]"
   ]
  },
  {
   "cell_type": "code",
   "execution_count": 36,
   "metadata": {},
   "outputs": [
    {
     "data": {
      "text/plain": [
       "2500"
      ]
     },
     "execution_count": 36,
     "metadata": {},
     "output_type": "execute_result"
    }
   ],
   "source": [
    "ANS=[]\n",
    "for t in range(1,51):\n",
    "    delta_hat = DELTA_dict[t]\n",
    "    s_t = calculate_s(delta_hat,theta_2, Temp_T=t, market_data=MARKET_DATA, CONSUMER=CONSUMER)\n",
    "    ans = s_t[P_lis].sum()/len(s_t)\n",
    "    ANS+=list(ans)\n",
    "len(ANS)"
   ]
  },
  {
   "cell_type": "code",
   "execution_count": 39,
   "metadata": {},
   "outputs": [
    {
     "data": {
      "text/html": [
       "<div>\n",
       "<style scoped>\n",
       "    .dataframe tbody tr th:only-of-type {\n",
       "        vertical-align: middle;\n",
       "    }\n",
       "\n",
       "    .dataframe tbody tr th {\n",
       "        vertical-align: top;\n",
       "    }\n",
       "\n",
       "    .dataframe thead th {\n",
       "        text-align: right;\n",
       "    }\n",
       "</style>\n",
       "<table border=\"1\" class=\"dataframe\">\n",
       "  <thead>\n",
       "    <tr style=\"text-align: right;\">\n",
       "      <th></th>\n",
       "      <th>mean_y</th>\n",
       "      <th>var_y</th>\n",
       "      <th>avg_p</th>\n",
       "    </tr>\n",
       "    <tr>\n",
       "      <th>t</th>\n",
       "      <th></th>\n",
       "      <th></th>\n",
       "      <th></th>\n",
       "    </tr>\n",
       "  </thead>\n",
       "  <tbody>\n",
       "    <tr>\n",
       "      <th>1</th>\n",
       "      <td>6.002591</td>\n",
       "      <td>0.266339</td>\n",
       "      <td>2.059834</td>\n",
       "    </tr>\n",
       "    <tr>\n",
       "      <th>2</th>\n",
       "      <td>4.550203</td>\n",
       "      <td>0.236291</td>\n",
       "      <td>2.173605</td>\n",
       "    </tr>\n",
       "    <tr>\n",
       "      <th>3</th>\n",
       "      <td>5.929497</td>\n",
       "      <td>0.233196</td>\n",
       "      <td>2.335989</td>\n",
       "    </tr>\n",
       "    <tr>\n",
       "      <th>4</th>\n",
       "      <td>4.432515</td>\n",
       "      <td>0.241526</td>\n",
       "      <td>2.047545</td>\n",
       "    </tr>\n",
       "  </tbody>\n",
       "</table>\n",
       "</div>"
      ],
      "text/plain": [
       "     mean_y     var_y     avg_p\n",
       "t                              \n",
       "1  6.002591  0.266339  2.059834\n",
       "2  4.550203  0.236291  2.173605\n",
       "3  5.929497  0.233196  2.335989\n",
       "4  4.432515  0.241526  2.047545"
      ]
     },
     "execution_count": 39,
     "metadata": {},
     "output_type": "execute_result"
    }
   ],
   "source": [
    "MARKET_DATA['market_share'] = ANS\n",
    "MARKET_DATA['weighted_price']= MARKET_DATA['price']*MARKET_DATA['market_share']\n",
    "ans1_df['avg_p'] = MARKET_DATA.groupby('t')['weighted_price'].agg(['sum'])\n",
    "# drop weighted_price in market_data\n",
    "market_data = MARKET_DATA.drop(columns=['weighted_price'])\n",
    "ans1_df[:4]"
   ]
  },
  {
   "cell_type": "code",
   "execution_count": 40,
   "metadata": {},
   "outputs": [
    {
     "data": {
      "text/plain": [
       "0.15430267273062442"
      ]
     },
     "execution_count": 40,
     "metadata": {},
     "output_type": "execute_result"
    }
   ],
   "source": [
    "ans1_df['mean_y'].corr(ans1_df['avg_p'])\n",
    "# true data is 0.15430274953743148, great"
   ]
  }
 ],
 "metadata": {
  "kernelspec": {
   "display_name": "base",
   "language": "python",
   "name": "python3"
  },
  "language_info": {
   "codemirror_mode": {
    "name": "ipython",
    "version": 3
   },
   "file_extension": ".py",
   "mimetype": "text/x-python",
   "name": "python",
   "nbconvert_exporter": "python",
   "pygments_lexer": "ipython3",
   "version": "3.10.13"
  }
 },
 "nbformat": 4,
 "nbformat_minor": 2
}
