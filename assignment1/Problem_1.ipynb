{
 "cells": [
  {
   "cell_type": "code",
   "execution_count": 1,
   "id": "f644ee27",
   "metadata": {},
   "outputs": [],
   "source": [
    "from functions_homework1 import *\n",
    "\n",
    "import warnings\n",
    "warnings.filterwarnings(\"ignore\")\n",
    "\n",
    "global demand_df,c_jt_dic,PARAMS,alpha, Temp_t, data"
   ]
  },
  {
   "cell_type": "markdown",
   "id": "f213f51c",
   "metadata": {},
   "source": [
    "# Problem 1\n",
    "## 1(a)\n",
    "In this part I reg ln(s_jt/s_0t) to X_jt,p_jt, I_Diet, I_Regular. This means I treat xi_j as noise in regression.\n",
    "\n",
    "The estimations are:\n",
    "\n",
    "const      -3.044239\n",
    "price      -1.626102\n",
    "sugar       1.528062\n",
    "caffeine    1.445800\n",
    "Diet        0.603640\n",
    "Regular    -3.647879"
   ]
  },
  {
   "cell_type": "code",
   "execution_count": 2,
   "id": "c4b849c0",
   "metadata": {},
   "outputs": [
    {
     "name": "stdout",
     "output_type": "stream",
     "text": [
      "                            OLS Regression Results                            \n",
      "==============================================================================\n",
      "Dep. Variable:               log_odds   R-squared:                       0.885\n",
      "Model:                            OLS   Adj. R-squared:                  0.884\n",
      "Method:                 Least Squares   F-statistic:                     1912.\n",
      "Date:                Wed, 18 Sep 2024   Prob (F-statistic):               0.00\n",
      "Time:                        23:37:09   Log-Likelihood:                -1305.2\n",
      "No. Observations:                1000   AIC:                             2620.\n",
      "Df Residuals:                     995   BIC:                             2645.\n",
      "Df Model:                           4                                         \n",
      "Covariance Type:            nonrobust                                         \n",
      "==============================================================================\n",
      "                 coef    std err          t      P>|t|      [0.025      0.975]\n",
      "------------------------------------------------------------------------------\n",
      "price         -1.6261      0.021    -77.352      0.000      -1.667      -1.585\n",
      "sugar          1.5281      0.041     37.444      0.000       1.448       1.608\n",
      "caffeine       1.4458      0.029     50.517      0.000       1.390       1.502\n",
      "Diet          -2.4406      0.149    -16.422      0.000      -2.732      -2.149\n",
      "Regular       -6.6921      0.245    -27.269      0.000      -7.174      -6.211\n",
      "==============================================================================\n",
      "Omnibus:                        1.109   Durbin-Watson:                   1.901\n",
      "Prob(Omnibus):                  0.574   Jarque-Bera (JB):                1.172\n",
      "Skew:                          -0.048   Prob(JB):                        0.557\n",
      "Kurtosis:                       2.862   Cond. No.                         63.3\n",
      "==============================================================================\n",
      "\n",
      "Notes:\n",
      "[1] Standard Errors assume that the covariance matrix of the errors is correctly specified.\n"
     ]
    }
   ],
   "source": [
    "Dic_para_q1 = dict()\n",
    "Dic_para_q2q3 = dict()\n",
    "# Load the data\n",
    "data = pd.read_csv('product_data.csv')\n",
    "data = prepare_data(data)\n",
    "\n",
    "# Prepare the design matrix X and dependent variable y\n",
    "X = data[['price', 'sugar', 'caffeine', 'Diet', 'Regular']]\n",
    "# X = sm.add_constant(X)  # Add a constant term to the model\n",
    "y = data['log_odds']\n",
    "\n",
    "# Fit the model\n",
    "model = sm.OLS(y, X)\n",
    "model_results = model.fit()\n",
    "\n",
    "# Print the results\n",
    "print(model_results.summary())\n",
    "\n",
    "params_ols = get_parameters(model_results, nested=False, print_results=False)\n",
    "Dic_para_q1['OLS'] = params_ols"
   ]
  },
  {
   "cell_type": "markdown",
   "id": "b52d677d",
   "metadata": {},
   "source": [
    "## 1(a)-2 \n",
    "In this part I reg ln(s_jt/s_0t) to X_jt,p_jt, I_Diet, I_Regular and 9 dummies for each j (drop ID_1). This means I treat xi_j as fixed within periods in regression."
   ]
  },
  {
   "cell_type": "code",
   "execution_count": 3,
   "id": "854c49de",
   "metadata": {},
   "outputs": [
    {
     "name": "stdout",
     "output_type": "stream",
     "text": [
      "alpha (price): -1.6239\n",
      "beta1 (sugar): 1.5230\n",
      "beta2 (caffeine): 1.4450\n",
      "gamma_D (Diet): -2.3990\n",
      "gamma_R (Regular): -5.5584\n"
     ]
    }
   ],
   "source": [
    "ID_dummies = pd.get_dummies(data['product_ID'], prefix='ID').astype(int)\n",
    "ID_dummies = ID_dummies.drop('ID_1', axis=1)\n",
    "\n",
    "X = pd.concat([X, ID_dummies], axis=1)\n",
    "\n",
    "y = data['log_odds']\n",
    "\n",
    "# Fit the model\n",
    "model = sm.OLS(y, X)\n",
    "model_results = model.fit()\n",
    "\n",
    "# Print the results\n",
    "params_ols_fixed_effect = get_parameters(\n",
    "    model_results, nested=False, print_results=True)\n",
    "Dic_para_q1['OLS_fixed_effect'] = params_ols_fixed_effect"
   ]
  },
  {
   "cell_type": "markdown",
   "id": "7cce0502",
   "metadata": {},
   "source": [
    "## 1(b)\n"
   ]
  },
  {
   "cell_type": "code",
   "execution_count": 4,
   "id": "dc86ace3",
   "metadata": {},
   "outputs": [
    {
     "name": "stdout",
     "output_type": "stream",
     "text": [
      "alpha (price): -1.2405\n",
      "beta1 (sugar): 1.3486\n",
      "beta2 (caffeine): 1.3318\n",
      "gamma_D (Diet): -2.6493\n",
      "gamma_R (Regular): -6.5599\n"
     ]
    }
   ],
   "source": [
    "# Construct instruments\n",
    "data['Z1'] = data['caffeine_extract_price'] * data['caffeine']\n",
    "data['Z2'] = data['corn_syrup_price'] * data['sugar']\n",
    "\n",
    "# Prepare the data for IV regression\n",
    "\n",
    "X = data[['sugar', 'caffeine', 'Diet', 'Regular', 'price']]\n",
    "instruments = data[['sugar', 'caffeine', 'Diet', 'Regular', 'Z1', 'Z2']]\n",
    "y = data['log_odds']\n",
    "\n",
    "# Perform 2SLS estimation\n",
    "iv_model = IV2SLS(y, X, instruments)\n",
    "iv_results = iv_model.fit()\n",
    "\n",
    "# Print the results\n",
    "params_IV = get_parameters(iv_results, nested=False, print_results=True)\n",
    "Dic_para_q1['IV'] = params_IV"
   ]
  },
  {
   "cell_type": "markdown",
   "id": "3279acab",
   "metadata": {},
   "source": [
    "## 1(c)\n",
    "Let $M=\\sum_{k\\neq j} exp(\\delta_k)+1$, then $\\frac{\\partial s_{jt}}{\\partial p_{jt}}=\\frac{Mexp(\\delta_{jt})}{(M+exp(\\delta_{jt}))^2}\\alpha=\\alpha s_{jt}(1-s_{jt})$"
   ]
  },
  {
   "cell_type": "code",
   "execution_count": 5,
   "id": "422501ea",
   "metadata": {},
   "outputs": [
    {
     "name": "stdout",
     "output_type": "stream",
     "text": [
      "Mean own-price elasticity for Regular drinks: -3.6948\n",
      "Mean own-price elasticity for Diet drinks: -2.6162\n"
     ]
    }
   ],
   "source": [
    "def own_price_derivative(alpha, s_jt):\n",
    "    return alpha * s_jt * (1 - s_jt)\n",
    "\n",
    "# Function to calculate own-price elasticity\n",
    "\n",
    "\n",
    "def own_price_elasticity(alpha, p_jt, s_jt):\n",
    "    return alpha * p_jt * (1 - s_jt)\n",
    "\n",
    "\n",
    "def own_PD_PE(df, params_ols):\n",
    "    \"\"\"take alpha and call the function, return the results\"\"\"\n",
    "    data = df.copy()\n",
    "    # Calculate own-price derivatives and elasticities\n",
    "    alpha = params_ols['alpha']\n",
    "    data['own_price_derivative'] = own_price_derivative(\n",
    "        alpha, data['market_share'])\n",
    "    data['own_price_elasticity'] = own_price_elasticity(\n",
    "        alpha, data['price'], data['market_share'])\n",
    "\n",
    "    # Calculate mean elasticities for Regular and Diet drinks\n",
    "    mean_elasticity_regular = data[data['nest']\n",
    "                                   == 'Regular']['own_price_elasticity'].mean()\n",
    "    mean_elasticity_diet = data[data['nest'] ==\n",
    "                                'Diet']['own_price_elasticity'].mean()\n",
    "\n",
    "    print(\n",
    "        f\"Mean own-price elasticity for Regular drinks: {mean_elasticity_regular:.4f}\")\n",
    "    print(\n",
    "        f\"Mean own-price elasticity for Diet drinks: {mean_elasticity_diet:.4f}\")\n",
    "\n",
    "    return [mean_elasticity_regular, mean_elasticity_diet,data]\n",
    "\n",
    "\n",
    "[mean_elasticity_regular, mean_elasticity_diet,data] = own_PD_PE(data, params_IV)\n",
    "Dic_para_q2q3['own_elasticity_regular_1c'] = mean_elasticity_regular\n",
    "Dic_para_q2q3['own_elasticity_diet_1c'] = mean_elasticity_diet\n",
    "\n",
    "# # * Plot histograms of elasticities\n",
    "# plt.figure(figsize=(12, 6))\n",
    "# plt.subplot(1, 2, 1)\n",
    "# data[data['nest'] == 'Regular']['own_price_elasticity'].hist(bins=20)\n",
    "# plt.title('Own-Price Elasticities - Regular Drinks')\n",
    "# plt.xlabel('Elasticity')\n",
    "# plt.ylabel('Frequency')\n",
    "\n",
    "# plt.subplot(1, 2, 2)\n",
    "# data[data['nest'] == 'Diet']['own_price_elasticity'].hist(bins=20)\n",
    "# plt.title('Own-Price Elasticities - Diet Drinks')\n",
    "# plt.xlabel('Elasticity')\n",
    "# plt.ylabel('Frequency')\n",
    "\n",
    "# plt.tight_layout()\n",
    "# plt.show()"
   ]
  },
  {
   "cell_type": "markdown",
   "id": "425b439d",
   "metadata": {},
   "source": [
    "## 1(d)\n",
    "Similarly $\\frac{\\partial s_{jt}}{\\partial p_{1t}}=-\\alpha s_{jt}s_{1t}$"
   ]
  },
  {
   "cell_type": "code",
   "execution_count": 6,
   "id": "3f48305f",
   "metadata": {},
   "outputs": [
    {
     "name": "stdout",
     "output_type": "stream",
     "text": [
      "Mean cross-price elasticity between product 1 and Diet sodas: 0.1806\n",
      "Mean cross-price elasticity between product 1 and Regular sodas: 0.3401\n"
     ]
    }
   ],
   "source": [
    "# Function to calculate cross-price elasticity\n",
    "def cross_price_derivative(alpha, s_jt, s_it):\n",
    "    return -alpha * s_jt * s_it\n",
    "\n",
    "def cross_price_elasticity(alpha, p_1t, s_jt, s_1t):\n",
    "    return -alpha * p_1t * s_jt\n",
    "\n",
    "\n",
    "def cross_PD_PE(df,params_ols):\n",
    "    data=df.copy()\n",
    "    alpha = params_ols['alpha']\n",
    "\n",
    "    # Get product 1's market share for each time period\n",
    "    product_1_share = data[data['product_ID'] == 1].set_index('t')['market_share']\n",
    "\n",
    "    # Calculate cross-price derivatives and elasticities\n",
    "    data['cross_price_derivative'] = data.apply(lambda row: cross_price_derivative(alpha, row['market_share'], product_1_share[row['t']])\n",
    "                                                if row['product_ID'] != 1 else np.nan, axis=1)\n",
    "\n",
    "    data['cross_price_elasticity'] = data.apply(lambda row: cross_price_elasticity(alpha, data.loc[(data['product_ID'] == 1) & (data['t'] == row['t']), 'price'].values[0],\n",
    "                                                row['market_share'], product_1_share[row['t']])\n",
    "                                                if row['product_ID'] != 1 else np.nan, axis=1)\n",
    "\n",
    "    # Calculate mean cross-price elasticities\n",
    "    mean_cross_elasticity_diet = data[(data['nest'] == 'Diet') & (\n",
    "        data['product_ID'] != 1)]['cross_price_elasticity'].mean()\n",
    "    mean_cross_elasticity_regular = data[(data['nest'] == 'Regular') & (\n",
    "        data['product_ID'] != 1)]['cross_price_elasticity'].mean()\n",
    "\n",
    "    print(\n",
    "        f\"Mean cross-price elasticity between product 1 and Diet sodas: {mean_cross_elasticity_diet:.4f}\")\n",
    "    print(\n",
    "        f\"Mean cross-price elasticity between product 1 and Regular sodas: {mean_cross_elasticity_regular:.4f}\")\n",
    "    return [mean_cross_elasticity_diet,mean_cross_elasticity_regular,data]\n",
    "\n",
    "[mean_cross_elasticity_diet,mean_cross_elasticity_regular,data]= cross_PD_PE(data,params_IV)\n",
    "Dic_para_q2q3['cross_elasticity_regular_1d'] = mean_cross_elasticity_regular\n",
    "Dic_para_q2q3['cross_elasticity_diet_1d'] = mean_cross_elasticity_diet\n",
    "\n",
    "# * Plot histograms of cross-price elasticities\n",
    "# plt.figure(figsize=(12, 6))\n",
    "# plt.subplot(1, 2, 1)\n",
    "# data[(data['nest'] == 'Diet') & (data['product_ID'] != 1)\n",
    "#      ]['cross_price_elasticity'].hist(bins=20)\n",
    "# plt.title('Cross-Price Elasticities - Product 1 vs Diet Drinks')\n",
    "# plt.xlabel('Elasticity')\n",
    "# plt.ylabel('Frequency')\n",
    "\n",
    "# plt.subplot(1, 2, 2)\n",
    "# data[(data['nest'] == 'Regular') & (data['product_ID'] != 1)\n",
    "#      ]['cross_price_elasticity'].hist(bins=20)\n",
    "# plt.title('Cross-Price Elasticities - Product 1 vs Regular Drinks')\n",
    "# plt.xlabel('Elasticity')\n",
    "# plt.ylabel('Frequency')\n",
    "\n",
    "# plt.tight_layout()\n",
    "# plt.show()"
   ]
  },
  {
   "cell_type": "markdown",
   "id": "dedd4319",
   "metadata": {},
   "source": [
    "## 1(e)\n",
    "Use the formula that $\\frac{\\partial s_{jt}}{\\partial p_{it}}=-\\alpha s_{jt}s_{it}$"
   ]
  },
  {
   "cell_type": "code",
   "execution_count": 7,
   "id": "276a3a59",
   "metadata": {},
   "outputs": [
    {
     "name": "stdout",
     "output_type": "stream",
     "text": [
      "Jacobian matrix for period 100:\n",
      "[[-0.073  0.     0.001  0.002  0.019  0.003  0.035  0.008  0.003  0.003]\n",
      " [ 0.    -0.002  0.     0.     0.     0.     0.001  0.     0.     0.   ]\n",
      " [ 0.001  0.    -0.013  0.     0.003  0.     0.006  0.001  0.001  0.   ]\n",
      " [ 0.002  0.     0.    -0.025  0.006  0.001  0.011  0.002  0.001  0.001]\n",
      " [ 0.019  0.     0.003  0.006 -0.229  0.012  0.135  0.029  0.012  0.011]\n",
      " [ 0.003  0.     0.     0.001  0.012 -0.047  0.022  0.005  0.002  0.002]\n",
      " [ 0.035  0.001  0.006  0.011  0.135  0.022 -0.306  0.053  0.022  0.02 ]\n",
      " [ 0.008  0.     0.001  0.002  0.029  0.005  0.053 -0.108  0.005  0.004]\n",
      " [ 0.003  0.     0.001  0.001  0.012  0.002  0.022  0.005 -0.049  0.002]\n",
      " [ 0.003  0.     0.     0.001  0.011  0.002  0.02   0.004  0.002 -0.043]]\n"
     ]
    }
   ],
   "source": [
    "def generate_jacobian(time_period, data, params):\n",
    "    \"\"\"\n",
    "    Generate the Jacobian matrix of price derivatives for a given time period.\n",
    "    I Do need market_share column in the data pd\n",
    "    Returns: np.array like Jacobian matrix of price derivatives.\n",
    "    \"\"\"\n",
    "    alpha = params['alpha']\n",
    "    # Filter data for the given time period\n",
    "    period_data = data[data['t'] == time_period]\n",
    "    n_products = len(period_data)\n",
    "    shares = period_data['market_share'].values\n",
    "\n",
    "    # Initialize the Jacobian matrix\n",
    "    jacobian = np.zeros((n_products, n_products))\n",
    "\n",
    "    # Fill in the Jacobian matrix\n",
    "    for i in range(n_products):\n",
    "        for j in range(n_products):\n",
    "            if i == j:\n",
    "                # Own-price derivative\n",
    "                s_it = shares[i]\n",
    "                jacobian[i, i] = own_price_derivative(alpha, s_it)\n",
    "            else:\n",
    "                # Cross-price derivative\n",
    "                s_jt = shares[j]\n",
    "                s_it = shares[i]\n",
    "                jacobian[i, j] = cross_price_derivative(alpha, s_jt,  s_it)\n",
    "\n",
    "    return jacobian\n",
    "\n",
    "\n",
    "def print_jacobian(data, params_IV):\n",
    "    # Generate Jacobian for the last time period\n",
    "    last_period = data['t'].max()\n",
    "    jacobian_last_period = generate_jacobian(last_period, data, params_IV)\n",
    "    print(f\"Jacobian matrix for period {last_period}:\")\n",
    "    print(np.round(jacobian_last_period, 3))\n",
    "\n",
    "\n",
    "data_Q1=data.copy()\n",
    "print_jacobian(data, params_IV)"
   ]
  },
  {
   "cell_type": "markdown",
   "id": "cd8a4a82",
   "metadata": {},
   "source": [
    "## Compare estimations from different methods"
   ]
  },
  {
   "cell_type": "code",
   "execution_count": 8,
   "id": "fed9613f",
   "metadata": {},
   "outputs": [
    {
     "data": {
      "text/html": [
       "<div>\n",
       "<style scoped>\n",
       "    .dataframe tbody tr th:only-of-type {\n",
       "        vertical-align: middle;\n",
       "    }\n",
       "\n",
       "    .dataframe tbody tr th {\n",
       "        vertical-align: top;\n",
       "    }\n",
       "\n",
       "    .dataframe thead th {\n",
       "        text-align: right;\n",
       "    }\n",
       "</style>\n",
       "<table border=\"1\" class=\"dataframe\">\n",
       "  <thead>\n",
       "    <tr style=\"text-align: right;\">\n",
       "      <th></th>\n",
       "      <th>OLS</th>\n",
       "      <th>OLS_fixed_effect</th>\n",
       "      <th>IV</th>\n",
       "    </tr>\n",
       "  </thead>\n",
       "  <tbody>\n",
       "    <tr>\n",
       "      <th>alpha</th>\n",
       "      <td>-1.626102</td>\n",
       "      <td>-1.623944</td>\n",
       "      <td>-1.240471</td>\n",
       "    </tr>\n",
       "    <tr>\n",
       "      <th>beta1</th>\n",
       "      <td>1.528062</td>\n",
       "      <td>1.522991</td>\n",
       "      <td>1.348568</td>\n",
       "    </tr>\n",
       "    <tr>\n",
       "      <th>beta2</th>\n",
       "      <td>1.445800</td>\n",
       "      <td>1.444985</td>\n",
       "      <td>1.331827</td>\n",
       "    </tr>\n",
       "    <tr>\n",
       "      <th>gamma_D</th>\n",
       "      <td>-2.440599</td>\n",
       "      <td>-2.399023</td>\n",
       "      <td>-2.649342</td>\n",
       "    </tr>\n",
       "    <tr>\n",
       "      <th>gamma_R</th>\n",
       "      <td>-6.692118</td>\n",
       "      <td>-5.558367</td>\n",
       "      <td>-6.559863</td>\n",
       "    </tr>\n",
       "  </tbody>\n",
       "</table>\n",
       "</div>"
      ],
      "text/plain": [
       "              OLS  OLS_fixed_effect        IV\n",
       "alpha   -1.626102         -1.623944 -1.240471\n",
       "beta1    1.528062          1.522991  1.348568\n",
       "beta2    1.445800          1.444985  1.331827\n",
       "gamma_D -2.440599         -2.399023 -2.649342\n",
       "gamma_R -6.692118         -5.558367 -6.559863"
      ]
     },
     "execution_count": 8,
     "metadata": {},
     "output_type": "execute_result"
    }
   ],
   "source": [
    "pd.DataFrame(Dic_para_q1)"
   ]
  },
  {
   "cell_type": "markdown",
   "id": "a8fb1ccf",
   "metadata": {},
   "source": [
    "# Problem 2"
   ]
  },
  {
   "cell_type": "markdown",
   "id": "5de9a5c1",
   "metadata": {},
   "source": [
    "## 2(a)"
   ]
  },
  {
   "cell_type": "code",
   "execution_count": 9,
   "id": "067b1244",
   "metadata": {},
   "outputs": [],
   "source": [
    "Dic_para_q2 = dict()"
   ]
  },
  {
   "cell_type": "code",
   "execution_count": 10,
   "id": "c43a2d34",
   "metadata": {},
   "outputs": [],
   "source": [
    "# Load the data\n",
    "data = pd.read_csv('product_data.csv')\n",
    "data = prepare_data(data)\n",
    "data['group_share'] = data.groupby(\n",
    "    ['t', 'nest'])['market_share'].transform('sum')\n",
    "data['within_group_share'] = data['market_share'] / data['group_share']\n",
    "data['log_within_share'] = np.log(data['within_group_share'])\n",
    "\n",
    "# Prepare the design matrix X and dependent variable y\n",
    "# Create instruments\n",
    "data['Z1'] = data['caffeine_extract_price'] * data['caffeine']\n",
    "data['Z2'] = data['corn_syrup_price'] * data['sugar']\n",
    "exog_list = ['sugar', 'caffeine', 'Diet', 'Regular', 'log_within_share']\n",
    "X = data[['price']+exog_list]\n",
    "y = data['log_odds']\n",
    "instruments = data[['Z1', 'Z2']+exog_list]\n",
    "\n",
    "# Fit the model\n",
    "model = sm.OLS(y, X)\n",
    "model_results = model.fit()\n",
    "nest_params_ols = get_parameters(\n",
    "    model_results, nested=True, print_results=False)\n",
    "Dic_para_q2['nest_OLS'] = nest_params_ols\n",
    "\n",
    "# Perform 2SLS estimation\n",
    "iv_model = IV2SLS(y, X, instruments)\n",
    "iv_results = iv_model.fit()\n",
    "nest_params_IV = get_parameters(iv_results, nested=True, print_results=False)\n",
    "Dic_para_q2['nest_params_IV'] = nest_params_IV"
   ]
  },
  {
   "cell_type": "markdown",
   "id": "c0ab18a1",
   "metadata": {},
   "source": [
    "## 2(b)"
   ]
  },
  {
   "cell_type": "code",
   "execution_count": 11,
   "id": "5577f492",
   "metadata": {},
   "outputs": [
    {
     "name": "stdout",
     "output_type": "stream",
     "text": [
      "Mean own-price elasticity for Regular drinks: -1.1759\n",
      "Mean own-price elasticity for Diet drinks: -0.8326\n"
     ]
    }
   ],
   "source": [
    "[Nest_mean_elasticity_regular, Nest_mean_elasticity_diet,data] = own_PD_PE(data, nest_params_IV)\n",
    "Dic_para_q2q3['own_Nest_elasticity_regular_2b'] = Nest_mean_elasticity_regular\n",
    "Dic_para_q2q3['own_Nest_elasticity_diet_2b'] = Nest_mean_elasticity_diet"
   ]
  },
  {
   "cell_type": "markdown",
   "id": "787b9856",
   "metadata": {},
   "source": [
    "## 2(c)"
   ]
  },
  {
   "cell_type": "code",
   "execution_count": 12,
   "id": "f2950a2a",
   "metadata": {},
   "outputs": [
    {
     "name": "stdout",
     "output_type": "stream",
     "text": [
      "Mean cross-price elasticity between product 1 and Diet sodas: 0.0575\n",
      "Mean cross-price elasticity between product 1 and Regular sodas: 0.1082\n"
     ]
    }
   ],
   "source": [
    "[Nest_mean_cross_elasticity_regular, Nest_mean_cross_elasticity_diet,data] = cross_PD_PE(data, nest_params_IV)\n",
    "Dic_para_q2q3['cross_Nest_elasticity_regular_2c'] = Nest_mean_cross_elasticity_regular\n",
    "Dic_para_q2q3['cross_Nest_elasticity_diet_2c'] = Nest_mean_cross_elasticity_diet"
   ]
  },
  {
   "cell_type": "markdown",
   "id": "d4e4876e",
   "metadata": {},
   "source": [
    "## 2(d)"
   ]
  },
  {
   "cell_type": "code",
   "execution_count": 13,
   "id": "25a0dd6a",
   "metadata": {},
   "outputs": [
    {
     "data": {
      "text/html": [
       "<div>\n",
       "<style scoped>\n",
       "    .dataframe tbody tr th:only-of-type {\n",
       "        vertical-align: middle;\n",
       "    }\n",
       "\n",
       "    .dataframe tbody tr th {\n",
       "        vertical-align: top;\n",
       "    }\n",
       "\n",
       "    .dataframe thead th {\n",
       "        text-align: right;\n",
       "    }\n",
       "</style>\n",
       "<table border=\"1\" class=\"dataframe\">\n",
       "  <thead>\n",
       "    <tr style=\"text-align: right;\">\n",
       "      <th></th>\n",
       "      <th>IV</th>\n",
       "      <th>nest_params_IV</th>\n",
       "    </tr>\n",
       "  </thead>\n",
       "  <tbody>\n",
       "    <tr>\n",
       "      <th>alpha</th>\n",
       "      <td>-1.240</td>\n",
       "      <td>-0.395</td>\n",
       "    </tr>\n",
       "    <tr>\n",
       "      <th>beta1</th>\n",
       "      <td>1.349</td>\n",
       "      <td>0.388</td>\n",
       "    </tr>\n",
       "    <tr>\n",
       "      <th>beta2</th>\n",
       "      <td>1.332</td>\n",
       "      <td>0.398</td>\n",
       "    </tr>\n",
       "    <tr>\n",
       "      <th>gamma_D</th>\n",
       "      <td>-2.649</td>\n",
       "      <td>2.532</td>\n",
       "    </tr>\n",
       "    <tr>\n",
       "      <th>gamma_R</th>\n",
       "      <td>-6.560</td>\n",
       "      <td>1.918</td>\n",
       "    </tr>\n",
       "    <tr>\n",
       "      <th>sigma</th>\n",
       "      <td>NaN</td>\n",
       "      <td>0.780</td>\n",
       "    </tr>\n",
       "  </tbody>\n",
       "</table>\n",
       "</div>"
      ],
      "text/plain": [
       "            IV  nest_params_IV\n",
       "alpha   -1.240          -0.395\n",
       "beta1    1.349           0.388\n",
       "beta2    1.332           0.398\n",
       "gamma_D -2.649           2.532\n",
       "gamma_R -6.560           1.918\n",
       "sigma      NaN           0.780"
      ]
     },
     "execution_count": 13,
     "metadata": {},
     "output_type": "execute_result"
    }
   ],
   "source": [
    "part_2= pd.DataFrame(Dic_para_q2)\n",
    "part_1= pd.DataFrame(Dic_para_q1)\n",
    "merge_params_all = pd.concat([part_1,part_2],axis=1)\n",
    "wanted_lis = [x for x in merge_params_all.columns if 'IV' in x]\n",
    "merge_params_all[wanted_lis].round(3)"
   ]
  },
  {
   "cell_type": "code",
   "execution_count": 14,
   "id": "7a64dd1a",
   "metadata": {},
   "outputs": [
    {
     "data": {
      "text/html": [
       "<div>\n",
       "<style scoped>\n",
       "    .dataframe tbody tr th:only-of-type {\n",
       "        vertical-align: middle;\n",
       "    }\n",
       "\n",
       "    .dataframe tbody tr th {\n",
       "        vertical-align: top;\n",
       "    }\n",
       "\n",
       "    .dataframe thead th {\n",
       "        text-align: right;\n",
       "    }\n",
       "</style>\n",
       "<table border=\"1\" class=\"dataframe\">\n",
       "  <thead>\n",
       "    <tr style=\"text-align: right;\">\n",
       "      <th></th>\n",
       "      <th>0</th>\n",
       "    </tr>\n",
       "  </thead>\n",
       "  <tbody>\n",
       "    <tr>\n",
       "      <th>own_elasticity_regular_1c</th>\n",
       "      <td>-3.694777</td>\n",
       "    </tr>\n",
       "    <tr>\n",
       "      <th>own_elasticity_diet_1c</th>\n",
       "      <td>-2.616178</td>\n",
       "    </tr>\n",
       "    <tr>\n",
       "      <th>cross_elasticity_regular_1d</th>\n",
       "      <td>0.340054</td>\n",
       "    </tr>\n",
       "    <tr>\n",
       "      <th>cross_elasticity_diet_1d</th>\n",
       "      <td>0.180621</td>\n",
       "    </tr>\n",
       "    <tr>\n",
       "      <th>own_Nest_elasticity_regular_2b</th>\n",
       "      <td>-1.175896</td>\n",
       "    </tr>\n",
       "    <tr>\n",
       "      <th>own_Nest_elasticity_diet_2b</th>\n",
       "      <td>-0.832623</td>\n",
       "    </tr>\n",
       "    <tr>\n",
       "      <th>cross_Nest_elasticity_regular_2c</th>\n",
       "      <td>0.057484</td>\n",
       "    </tr>\n",
       "    <tr>\n",
       "      <th>cross_Nest_elasticity_diet_2c</th>\n",
       "      <td>0.108225</td>\n",
       "    </tr>\n",
       "  </tbody>\n",
       "</table>\n",
       "</div>"
      ],
      "text/plain": [
       "                                         0\n",
       "own_elasticity_regular_1c        -3.694777\n",
       "own_elasticity_diet_1c           -2.616178\n",
       "cross_elasticity_regular_1d       0.340054\n",
       "cross_elasticity_diet_1d          0.180621\n",
       "own_Nest_elasticity_regular_2b   -1.175896\n",
       "own_Nest_elasticity_diet_2b      -0.832623\n",
       "cross_Nest_elasticity_regular_2c  0.057484\n",
       "cross_Nest_elasticity_diet_2c     0.108225"
      ]
     },
     "execution_count": 14,
     "metadata": {},
     "output_type": "execute_result"
    }
   ],
   "source": [
    "pd.DataFrame([Dic_para_q2q3]).T"
   ]
  },
  {
   "cell_type": "markdown",
   "id": "e8361ffd",
   "metadata": {},
   "source": [
    "## 2(e)"
   ]
  },
  {
   "cell_type": "code",
   "execution_count": 15,
   "id": "7cb6b578",
   "metadata": {},
   "outputs": [
    {
     "name": "stdout",
     "output_type": "stream",
     "text": [
      "Jacobian matrix for period 100:\n",
      "[[-0.023  0.     0.     0.001  0.006  0.001  0.011  0.002  0.001  0.001]\n",
      " [ 0.    -0.001  0.     0.     0.     0.     0.     0.     0.     0.   ]\n",
      " [ 0.     0.    -0.004  0.     0.001  0.     0.002  0.     0.     0.   ]\n",
      " [ 0.001  0.     0.    -0.008  0.002  0.     0.004  0.001  0.     0.   ]\n",
      " [ 0.006  0.     0.001  0.002 -0.073  0.004  0.043  0.009  0.004  0.003]\n",
      " [ 0.001  0.     0.     0.     0.004 -0.015  0.007  0.001  0.001  0.001]\n",
      " [ 0.011  0.     0.002  0.004  0.043  0.007 -0.097  0.017  0.007  0.006]\n",
      " [ 0.002  0.     0.     0.001  0.009  0.001  0.017 -0.034  0.002  0.001]\n",
      " [ 0.001  0.     0.     0.     0.004  0.001  0.007  0.002 -0.015  0.001]\n",
      " [ 0.001  0.     0.     0.     0.003  0.001  0.006  0.001  0.001 -0.014]]\n"
     ]
    }
   ],
   "source": [
    "print_jacobian(data, nest_params_IV)"
   ]
  },
  {
   "cell_type": "markdown",
   "id": "3b5691cc",
   "metadata": {},
   "source": [
    "## 3\n"
   ]
  },
  {
   "cell_type": "markdown",
   "id": "37f5e427",
   "metadata": {},
   "source": [
    "## 3(a)\n",
    "I still use MNL demand for this part, since outcomes for NestLogit seems weird. \n",
    "\n",
    "The FOC is $s_{jt}+(P_{jt}-c_{jt})\\frac{\\partial s_{jt}}{\\partial p_{jt}}=0$\n",
    "\n",
    "If we believe the market data represents the Nash Equilibrium status, then mutual best response means $\\frac{\\partial s_{jt}}{\\partial p_{jt}}$ is evaluated when $s_{-j,t}$ lies in the EQM level: the point estimate we get is also a function evaluated at EQM.\n",
    "\n",
    "\n",
    "so we can estimate $\\hat c_jt=P_{jt}+s_{jt}/(\\frac{\\partial s_{jt}}{\\partial p_{jt}})$\n",
    "\n",
    "\n",
    "\n",
    "The can query by own_price_derivative(alpha, s_jt), but actually is stored in data"
   ]
  },
  {
   "cell_type": "code",
   "execution_count": 16,
   "id": "db7569f2",
   "metadata": {},
   "outputs": [
    {
     "data": {
      "text/html": [
       "<div>\n",
       "<style scoped>\n",
       "    .dataframe tbody tr th:only-of-type {\n",
       "        vertical-align: middle;\n",
       "    }\n",
       "\n",
       "    .dataframe tbody tr th {\n",
       "        vertical-align: top;\n",
       "    }\n",
       "\n",
       "    .dataframe thead th {\n",
       "        text-align: right;\n",
       "    }\n",
       "</style>\n",
       "<table border=\"1\" class=\"dataframe\">\n",
       "  <thead>\n",
       "    <tr style=\"text-align: right;\">\n",
       "      <th></th>\n",
       "      <th>Lerner_MultiNomialLogit</th>\n",
       "      <th>Lerner_NestedLogit</th>\n",
       "    </tr>\n",
       "    <tr>\n",
       "      <th>product_ID</th>\n",
       "      <th></th>\n",
       "      <th></th>\n",
       "    </tr>\n",
       "  </thead>\n",
       "  <tbody>\n",
       "    <tr>\n",
       "      <th>1</th>\n",
       "      <td>0.424900</td>\n",
       "      <td>1.335075</td>\n",
       "    </tr>\n",
       "    <tr>\n",
       "      <th>2</th>\n",
       "      <td>0.409020</td>\n",
       "      <td>1.285180</td>\n",
       "    </tr>\n",
       "    <tr>\n",
       "      <th>3</th>\n",
       "      <td>0.406436</td>\n",
       "      <td>1.277059</td>\n",
       "    </tr>\n",
       "    <tr>\n",
       "      <th>4</th>\n",
       "      <td>0.417436</td>\n",
       "      <td>1.311623</td>\n",
       "    </tr>\n",
       "    <tr>\n",
       "      <th>5</th>\n",
       "      <td>0.431794</td>\n",
       "      <td>1.356736</td>\n",
       "    </tr>\n",
       "    <tr>\n",
       "      <th>6</th>\n",
       "      <td>0.288568</td>\n",
       "      <td>0.906707</td>\n",
       "    </tr>\n",
       "    <tr>\n",
       "      <th>7</th>\n",
       "      <td>0.303915</td>\n",
       "      <td>0.954929</td>\n",
       "    </tr>\n",
       "    <tr>\n",
       "      <th>8</th>\n",
       "      <td>0.279151</td>\n",
       "      <td>0.877118</td>\n",
       "    </tr>\n",
       "    <tr>\n",
       "      <th>9</th>\n",
       "      <td>0.292641</td>\n",
       "      <td>0.919506</td>\n",
       "    </tr>\n",
       "    <tr>\n",
       "      <th>10</th>\n",
       "      <td>0.289598</td>\n",
       "      <td>0.909945</td>\n",
       "    </tr>\n",
       "  </tbody>\n",
       "</table>\n",
       "</div>"
      ],
      "text/plain": [
       "            Lerner_MultiNomialLogit  Lerner_NestedLogit\n",
       "product_ID                                             \n",
       "1                          0.424900            1.335075\n",
       "2                          0.409020            1.285180\n",
       "3                          0.406436            1.277059\n",
       "4                          0.417436            1.311623\n",
       "5                          0.431794            1.356736\n",
       "6                          0.288568            0.906707\n",
       "7                          0.303915            0.954929\n",
       "8                          0.279151            0.877118\n",
       "9                          0.292641            0.919506\n",
       "10                         0.289598            0.909945"
      ]
     },
     "execution_count": 16,
     "metadata": {},
     "output_type": "execute_result"
    }
   ],
   "source": [
    "def calc_cost_Lerner(data):\n",
    "    data['middle']=data['market_share']/data['own_price_derivative']\n",
    "    data['cost']=data['price']+data['middle']\n",
    "    data['middle_2']=data['price']-data['cost']\n",
    "    data['Lerner']=data['middle_2']/data['price']\n",
    "    data=data.drop('middle',axis=1).drop('middle_2',axis=1)\n",
    "    return data\n",
    "\n",
    "data_Nest=calc_cost_Lerner(data)\n",
    "# for mean Lerner I think it's mean over time\n",
    "part_Q2=data_Nest.groupby('product_ID').agg({'Lerner':np.mean})\n",
    "\n",
    "#seems weird so I go back and check whether derivatives got from MNL makes sense\n",
    "data_ML=calc_cost_Lerner(data_Q1)  \n",
    "part_Q1 = data_ML.groupby('product_ID').agg({'Lerner':np.mean})\n",
    "\n",
    "part_Q2['Lerner_MultiNomialLogit']=part_Q1\n",
    "part_Q2['Lerner_NestedLogit']=part_Q2['Lerner']\n",
    "part_Q2=part_Q2.drop('Lerner',axis=1)\n",
    "part_Q2"
   ]
  },
  {
   "cell_type": "code",
   "execution_count": 17,
   "id": "9e6a1730",
   "metadata": {},
   "outputs": [],
   "source": [
    "## MNL demand?\n",
    "c_jt_dic=dict(data_ML.set_index(['product_ID','t'])['cost'])\n",
    "[alpha,beta1,beta2,gammaD,gammaR] = params_IV.values()\n",
    "RHS_Var=['price','sugar','caffeine','Diet','Regular','t']\n",
    "demand_df = data[RHS_Var]\n",
    "#share_function_MNL(params_IV.values(), demand_df, temp_t, temp_price)"
   ]
  },
  {
   "cell_type": "markdown",
   "id": "9aa0103a",
   "metadata": {},
   "source": [
    "For EQM we have $p_{jt}=c_{jt}-\\frac{s_{jt}}{\\partial s_{jt}/\\partial p_{jt}}$ which is\n",
    "$p_{jt}=c_{jt}-\\frac{1}{\\alpha(1-s_{jt})}$. So I'm looking for a 10-dim vector $p_t$ which solves (or equivalently minimizes the norm of diff):\n",
    "$$\n",
    "1/(c_{jt}-p_{jt})=\\alpha (1-s_{jt}(p))\n",
    "$$"
   ]
  },
  {
   "cell_type": "code",
   "execution_count": null,
   "id": "c9ef67bd",
   "metadata": {},
   "outputs": [],
   "source": [
    "################### For Nash Solver Part###############\n",
    "# a function for demand/share\n",
    "def share_function_MNL(temp_price):\n",
    "    global demand_df,c_jt_dic,PARAMS,alpha, Temp_t, data\n",
    "    \"\"\"This is a mapping: given params&demand_df(I need sugar,caffeine, Diet,Regular),\n",
    "    period t, and len-10 vector price, generate expected market share which is also len-10 vector\"\"\"\n",
    "    [alpha,beta1,beta2,gammaD,gammaR] = PARAMS\n",
    "    temp_t=Temp_t\n",
    "    temp_demand_df = demand_df[demand_df['t']==temp_t]\n",
    "    temp_demand_df['M'] = temp_demand_df['sugar']*beta1+temp_demand_df['caffeine']*beta2+temp_demand_df['Diet']*gammaD+temp_demand_df['Regular']*gammaR\n",
    "    temp_demand_df['exp_M']=np.exp(temp_demand_df['M'])\n",
    "    temp_demand_df['Price']=temp_price\n",
    "    temp_demand_df['middle']=temp_demand_df['Price']*alpha\n",
    "    temp_demand_df['exp_P'] = np.exp(temp_demand_df['middle'])\n",
    "    temp_demand_df['exp_delta']=temp_demand_df['exp_M']*temp_demand_df['exp_P']\n",
    "    denom=temp_demand_df['exp_delta'].sum()+1 #+1 for outside option\n",
    "    temp_demand_df['expected_share'] = temp_demand_df['exp_delta']/denom\n",
    "\n",
    "    temp_demand_df = temp_demand_df.sort_index() \n",
    "    # to make sure the sort is correct so I can check j's expected share by [j-1]\n",
    "    return list(temp_demand_df['expected_share'])\n",
    "\n",
    "def solve_Nash(initial_guess,question=1):\n",
    "    \"\"\"Solve NE by minimizing norm of 10 equations. Return a 10-dim vector of prices\"\"\"\n",
    "    global demand_df,c_jt_dic,PARAMS,alpha, Temp_t, data\n",
    "    # a loss function for each j,t: given p, tell loss from j\n",
    "    def loss(p_vec,j,s_list):\n",
    "        p_j=p_vec[j-1]\n",
    "        c_jt=c_jt_dic[(j,Temp_t)] #check the cost\n",
    "        LHS= 1/(c_jt-p_j)\n",
    "        s_jt=s_list[j-1] # the estimated market share under p_vec\n",
    "        RHS=alpha*(1-s_jt)\n",
    "        return abs(LHS-RHS)\n",
    "        return (LHS-RHS)*(LHS-RHS)\n",
    "    \n",
    "    # another loss specifically for 3(b):merging between 1 and 2\n",
    "    def loss_q3b(p_vec,s_list):\n",
    "        p_1=p_vec[0]\n",
    "        p_2=p_vec[1]\n",
    "\n",
    "        c_1=c_jt_dic[(1,Temp_t)] #check the cost\n",
    "        c_2=c_jt_dic[(2,Temp_t)] #check the cost\n",
    "\n",
    "        s_1=s_list[0] # the estimated market share under p_vec\n",
    "        s_2=s_list[1]\n",
    "        def diff(p1,c1,s1,p2,c2,s2):\n",
    "            lhs=1+(p1-c1)*alpha*(1-s1)\n",
    "            rhs=(p2-c2)*alpha*s2\n",
    "            return abs(lhs-rhs)\n",
    "\n",
    "        return diff(p_1,c_1,s_1,p_2,c_2,s_2)+diff(p_2,c_2,s_2,p_1,c_1,s_1)\n",
    "\n",
    "    \n",
    "\n",
    "    # a Loss function: given p, tell loss from 10 firms\n",
    "    def LOSS_Q_1(p_vec):\n",
    "        s_list=share_function_MNL(p_vec)\n",
    "        sum1=0\n",
    "        for j in [1,2,3,4,5,6,7,8,9,10]:\n",
    "            sum1+=loss(p_vec,j,s_list)\n",
    "        return sum1\n",
    "    \n",
    "    def LOSS_Q_2(p_vec):\n",
    "        s_list=share_function_MNL(p_vec)\n",
    "        sum1=0\n",
    "        for j in [3,4,5,6,7,8,9,10]:\n",
    "            sum1+=loss(p_vec,j,s_list)\n",
    "        sum1+=loss_q3b(p_vec,s_list)\n",
    "        return sum1\n",
    "    \n",
    "    def LOSS_Q_3(p_vec):\n",
    "        s_list=share_function_MNL(p_vec)\n",
    "        p=p_vec\n",
    "        sum1=0\n",
    "        for j in [1,2,3,4,5,6,7,8,9,10]:\n",
    "            lhs=1+(p[j-1]-c_jt_dic[(j,Temp_t)])*alpha*(1-s_list[j-1])\n",
    "            rhs=0\n",
    "            for k in [1,2,3,4,5,6,7,8,9,10]:\n",
    "                if k!=j:\n",
    "                    rhs+= (p[k-1]-c_jt_dic[(k,Temp_t)])*alpha*(s_list[k-1])\n",
    "            sum1+= (lhs-rhs)**2\n",
    "        return sum1\n",
    "\n",
    "\n",
    "    if question ==1:\n",
    "        result = minimize(LOSS_Q_1, initial_guess, tol=1e-5,method = 'Nelder-Mead')\n",
    "    elif question ==2:\n",
    "        result = minimize(LOSS_Q_2, initial_guess, tol=1e-5,method = 'Nelder-Mead')\n",
    "    elif question ==3:\n",
    "        result = minimize(LOSS_Q_3, initial_guess, tol=1e-8,method = 'Nelder-Mead')\n",
    "        \n",
    "    print('number of iterations for minimize kernal:', result.nit)\n",
    "    price_star = result.x\n",
    "    return price_star,result"
   ]
  },
  {
   "cell_type": "code",
   "execution_count": 18,
   "id": "d13b41ab",
   "metadata": {},
   "outputs": [],
   "source": [
    "# set these global v for solve_NE()\n",
    "PARAMS = list(params_IV.values())\n",
    "Temp_t=100\n",
    "alpha=PARAMS[0]"
   ]
  },
  {
   "cell_type": "markdown",
   "id": "fae1ee8c",
   "metadata": {},
   "source": [
    "The following results show that my solution kernal is sensitive to the initial guess. Sometimes it's even negative."
   ]
  },
  {
   "cell_type": "code",
   "execution_count": 19,
   "id": "e4da1cb0",
   "metadata": {},
   "outputs": [
    {
     "ename": "NameError",
     "evalue": "name 'PARAMS' is not defined",
     "output_type": "error",
     "traceback": [
      "\u001b[0;31m---------------------------------------------------------------------------\u001b[0m",
      "\u001b[0;31mNameError\u001b[0m                                 Traceback (most recent call last)",
      "Cell \u001b[0;32mIn[19], line 1\u001b[0m\n\u001b[0;32m----> 1\u001b[0m price_star,result \u001b[38;5;241m=\u001b[39m solve_Nash(initial_guess\u001b[38;5;241m=\u001b[39m\u001b[38;5;28mlist\u001b[39m(data[data[\u001b[38;5;124m'\u001b[39m\u001b[38;5;124mt\u001b[39m\u001b[38;5;124m'\u001b[39m]\u001b[38;5;241m==\u001b[39m\u001b[38;5;241m79\u001b[39m][\u001b[38;5;124m'\u001b[39m\u001b[38;5;124mprice\u001b[39m\u001b[38;5;124m'\u001b[39m]))\n\u001b[1;32m      2\u001b[0m price_star\n",
      "File \u001b[0;32m~/Documents/GitHub/Econ_IO_24Fall/assignment1/functions_homework1.py:165\u001b[0m, in \u001b[0;36msolve_Nash\u001b[0;34m(initial_guess, question)\u001b[0m\n\u001b[1;32m    161\u001b[0m     \u001b[38;5;28;01mreturn\u001b[39;00m sum1\n\u001b[1;32m    164\u001b[0m \u001b[38;5;28;01mif\u001b[39;00m question \u001b[38;5;241m==\u001b[39m\u001b[38;5;241m1\u001b[39m:\n\u001b[0;32m--> 165\u001b[0m     result \u001b[38;5;241m=\u001b[39m minimize(LOSS_Q_1, initial_guess, tol\u001b[38;5;241m=\u001b[39m\u001b[38;5;241m1e-5\u001b[39m,method \u001b[38;5;241m=\u001b[39m \u001b[38;5;124m'\u001b[39m\u001b[38;5;124mNelder-Mead\u001b[39m\u001b[38;5;124m'\u001b[39m)\n\u001b[1;32m    166\u001b[0m \u001b[38;5;28;01melif\u001b[39;00m question \u001b[38;5;241m==\u001b[39m\u001b[38;5;241m2\u001b[39m:\n\u001b[1;32m    167\u001b[0m     result \u001b[38;5;241m=\u001b[39m minimize(LOSS_Q_2, initial_guess, tol\u001b[38;5;241m=\u001b[39m\u001b[38;5;241m1e-5\u001b[39m,method \u001b[38;5;241m=\u001b[39m \u001b[38;5;124m'\u001b[39m\u001b[38;5;124mNelder-Mead\u001b[39m\u001b[38;5;124m'\u001b[39m)\n",
      "File \u001b[0;32m~/anaconda3/lib/python3.11/site-packages/scipy/optimize/_minimize.py:698\u001b[0m, in \u001b[0;36mminimize\u001b[0;34m(fun, x0, args, method, jac, hess, hessp, bounds, constraints, tol, callback, options)\u001b[0m\n\u001b[1;32m    695\u001b[0m callback \u001b[38;5;241m=\u001b[39m _wrap_callback(callback, meth)\n\u001b[1;32m    697\u001b[0m \u001b[38;5;28;01mif\u001b[39;00m meth \u001b[38;5;241m==\u001b[39m \u001b[38;5;124m'\u001b[39m\u001b[38;5;124mnelder-mead\u001b[39m\u001b[38;5;124m'\u001b[39m:\n\u001b[0;32m--> 698\u001b[0m     res \u001b[38;5;241m=\u001b[39m _minimize_neldermead(fun, x0, args, callback, bounds\u001b[38;5;241m=\u001b[39mbounds,\n\u001b[1;32m    699\u001b[0m                                \u001b[38;5;241m*\u001b[39m\u001b[38;5;241m*\u001b[39moptions)\n\u001b[1;32m    700\u001b[0m \u001b[38;5;28;01melif\u001b[39;00m meth \u001b[38;5;241m==\u001b[39m \u001b[38;5;124m'\u001b[39m\u001b[38;5;124mpowell\u001b[39m\u001b[38;5;124m'\u001b[39m:\n\u001b[1;32m    701\u001b[0m     res \u001b[38;5;241m=\u001b[39m _minimize_powell(fun, x0, args, callback, bounds, \u001b[38;5;241m*\u001b[39m\u001b[38;5;241m*\u001b[39moptions)\n",
      "File \u001b[0;32m~/anaconda3/lib/python3.11/site-packages/scipy/optimize/_optimize.py:899\u001b[0m, in \u001b[0;36m_minimize_neldermead\u001b[0;34m(func, x0, args, callback, maxiter, maxfev, disp, return_all, initial_simplex, xatol, fatol, adaptive, bounds, **unknown_options)\u001b[0m\n\u001b[1;32m    897\u001b[0m \u001b[38;5;28;01mtry\u001b[39;00m:\n\u001b[1;32m    898\u001b[0m     \u001b[38;5;28;01mfor\u001b[39;00m k \u001b[38;5;129;01min\u001b[39;00m \u001b[38;5;28mrange\u001b[39m(N \u001b[38;5;241m+\u001b[39m \u001b[38;5;241m1\u001b[39m):\n\u001b[0;32m--> 899\u001b[0m         fsim[k] \u001b[38;5;241m=\u001b[39m func(sim[k])\n\u001b[1;32m    900\u001b[0m \u001b[38;5;28;01mexcept\u001b[39;00m _MaxFuncCallError:\n\u001b[1;32m    901\u001b[0m     \u001b[38;5;28;01mpass\u001b[39;00m\n",
      "File \u001b[0;32m~/anaconda3/lib/python3.11/site-packages/scipy/optimize/_optimize.py:620\u001b[0m, in \u001b[0;36m_wrap_scalar_function_maxfun_validation.<locals>.function_wrapper\u001b[0;34m(x, *wrapper_args)\u001b[0m\n\u001b[1;32m    618\u001b[0m ncalls[\u001b[38;5;241m0\u001b[39m] \u001b[38;5;241m+\u001b[39m\u001b[38;5;241m=\u001b[39m \u001b[38;5;241m1\u001b[39m\n\u001b[1;32m    619\u001b[0m \u001b[38;5;66;03m# A copy of x is sent to the user function (gh13740)\u001b[39;00m\n\u001b[0;32m--> 620\u001b[0m fx \u001b[38;5;241m=\u001b[39m function(np\u001b[38;5;241m.\u001b[39mcopy(x), \u001b[38;5;241m*\u001b[39m(wrapper_args \u001b[38;5;241m+\u001b[39m args))\n\u001b[1;32m    621\u001b[0m \u001b[38;5;66;03m# Ideally, we'd like to a have a true scalar returned from f(x). For\u001b[39;00m\n\u001b[1;32m    622\u001b[0m \u001b[38;5;66;03m# backwards-compatibility, also allow np.array([1.3]),\u001b[39;00m\n\u001b[1;32m    623\u001b[0m \u001b[38;5;66;03m# np.array([[1.3]]) etc.\u001b[39;00m\n\u001b[1;32m    624\u001b[0m \u001b[38;5;28;01mif\u001b[39;00m \u001b[38;5;129;01mnot\u001b[39;00m np\u001b[38;5;241m.\u001b[39misscalar(fx):\n",
      "File \u001b[0;32m~/Documents/GitHub/Econ_IO_24Fall/assignment1/functions_homework1.py:136\u001b[0m, in \u001b[0;36msolve_Nash.<locals>.LOSS_Q_1\u001b[0;34m(p_vec)\u001b[0m\n\u001b[1;32m    135\u001b[0m \u001b[38;5;28;01mdef\u001b[39;00m \u001b[38;5;21mLOSS_Q_1\u001b[39m(p_vec):\n\u001b[0;32m--> 136\u001b[0m     s_list\u001b[38;5;241m=\u001b[39mshare_function_MNL(p_vec)\n\u001b[1;32m    137\u001b[0m     sum1\u001b[38;5;241m=\u001b[39m\u001b[38;5;241m0\u001b[39m\n\u001b[1;32m    138\u001b[0m     \u001b[38;5;28;01mfor\u001b[39;00m j \u001b[38;5;129;01min\u001b[39;00m [\u001b[38;5;241m1\u001b[39m,\u001b[38;5;241m2\u001b[39m,\u001b[38;5;241m3\u001b[39m,\u001b[38;5;241m4\u001b[39m,\u001b[38;5;241m5\u001b[39m,\u001b[38;5;241m6\u001b[39m,\u001b[38;5;241m7\u001b[39m,\u001b[38;5;241m8\u001b[39m,\u001b[38;5;241m9\u001b[39m,\u001b[38;5;241m10\u001b[39m]:\n",
      "File \u001b[0;32m~/Documents/GitHub/Econ_IO_24Fall/assignment1/functions_homework1.py:86\u001b[0m, in \u001b[0;36mshare_function_MNL\u001b[0;34m(temp_price)\u001b[0m\n\u001b[1;32m     83\u001b[0m \u001b[38;5;28;01mglobal\u001b[39;00m demand_df,c_jt_dic,PARAMS,alpha, Temp_t, data\n\u001b[1;32m     84\u001b[0m \u001b[38;5;250m\u001b[39m\u001b[38;5;124;03m\"\"\"This is a mapping: given params&demand_df(I need sugar,caffeine, Diet,Regular),\u001b[39;00m\n\u001b[1;32m     85\u001b[0m \u001b[38;5;124;03mperiod t, and len-10 vector price, generate expected market share which is also len-10 vector\"\"\"\u001b[39;00m\n\u001b[0;32m---> 86\u001b[0m [alpha,beta1,beta2,gammaD,gammaR] \u001b[38;5;241m=\u001b[39m PARAMS\n\u001b[1;32m     87\u001b[0m temp_t\u001b[38;5;241m=\u001b[39mTemp_t\n\u001b[1;32m     88\u001b[0m temp_demand_df \u001b[38;5;241m=\u001b[39m demand_df[demand_df[\u001b[38;5;124m'\u001b[39m\u001b[38;5;124mt\u001b[39m\u001b[38;5;124m'\u001b[39m]\u001b[38;5;241m==\u001b[39mtemp_t]\n",
      "\u001b[0;31mNameError\u001b[0m: name 'PARAMS' is not defined"
     ]
    }
   ],
   "source": [
    "price_star,result = solve_Nash(initial_guess=list(data[data['t']==79]['price']))\n",
    "price_star"
   ]
  },
  {
   "cell_type": "code",
   "execution_count": 20,
   "id": "bd1221d1",
   "metadata": {},
   "outputs": [
    {
     "name": "stdout",
     "output_type": "stream",
     "text": [
      "number of iterations for minimize kernal: 606\n"
     ]
    },
    {
     "data": {
      "text/plain": [
       "array([3.19395824, 1.92021473, 1.83552495, 2.55845692, 2.10959126,\n",
       "       3.25138454, 4.48696974, 3.21670049, 3.21130675, 3.11399642])"
      ]
     },
     "execution_count": 20,
     "metadata": {},
     "output_type": "execute_result"
    }
   ],
   "source": [
    "price_star,result = solve_Nash(initial_guess=list(data[data['t']==100]['price']))\n",
    "price_star"
   ]
  },
  {
   "cell_type": "markdown",
   "id": "309a269a",
   "metadata": {},
   "source": [
    "## 3(b) \n",
    "Now firm 1 and 2 are collusion, then firm 3-10 has the same FOC as we did before, but 1 and 2 will change their decision to $\\max_{p_1,p_2} (p_1-c_1)s_1(p_1,p_2,p_o)+(p_2-c_2)s_2(p_1,p_2,p_o)$, where $p_o$ stands for other firm's decision. Then their FOC will switch to:\n",
    "$$1+(p_1-c_1) \\alpha(1-s_1) = (p_2-c_2)\\alpha s_2$$\n",
    "and \n",
    "$$1+(p_2-c_2) \\alpha(1-s_2) = (p_1-c_1)\\alpha s_1$$"
   ]
  },
  {
   "cell_type": "code",
   "execution_count": 21,
   "id": "ee0d6e2b",
   "metadata": {},
   "outputs": [
    {
     "name": "stdout",
     "output_type": "stream",
     "text": [
      "number of iterations for minimize kernal: 735\n"
     ]
    },
    {
     "data": {
      "text/plain": [
       "array([3.20660736, 1.98750592, 1.83812039, 2.5613943 , 2.11048704,\n",
       "       3.25336892, 4.52553173, 3.2126645 , 3.2137787 , 3.11521797])"
      ]
     },
     "execution_count": 21,
     "metadata": {},
     "output_type": "execute_result"
    }
   ],
   "source": [
    "price_star_q2,result_q2 = solve_Nash(initial_guess=list(data[data['t']==100]['price']), question=2)\n",
    "price_star_q2"
   ]
  },
  {
   "cell_type": "markdown",
   "id": "bef67460",
   "metadata": {},
   "source": [
    "## 3(c)\n"
   ]
  },
  {
   "cell_type": "markdown",
   "id": "8c073fe1",
   "metadata": {},
   "source": [
    "## 3(d)\n",
    "Now if ten of them merge, the every price is set to maximize total profit. FOC will switch to \n",
    "$$1+(p_i-c_i)\\alpha (1-s_i)=\\sum_{k\\neq i}\\alpha(p_k-c_k)s_k$$"
   ]
  },
  {
   "cell_type": "code",
   "execution_count": 22,
   "id": "1c25dd84",
   "metadata": {},
   "outputs": [
    {
     "name": "stdout",
     "output_type": "stream",
     "text": [
      "number of iterations for minimize kernal: 1413\n"
     ]
    },
    {
     "data": {
      "text/plain": [
       "array([3.50976633, 2.28758454, 2.19118555, 2.87667762, 2.44064393,\n",
       "       3.52315185, 4.39647322, 1.933765  , 3.53049935, 3.41941145])"
      ]
     },
     "execution_count": 22,
     "metadata": {},
     "output_type": "execute_result"
    }
   ],
   "source": [
    "# step 1: Directly solve FOC by GMM, starting from a dummy initial guess will give really wrong answer. In this price, the collusion profit is 30% of total profit get in independent case. However later works show it's solely because of the solver doesn't give correct minimizer. If I start from a clever initial guess than I will get the correct answer.\n",
    "price_star_q3,result_q3 = solve_Nash(initial_guess=list(data[data['t']==100]['price']), question=3)\n",
    "price_star_q3 "
   ]
  },
  {
   "cell_type": "code",
   "execution_count": 23,
   "id": "3dca119b",
   "metadata": {},
   "outputs": [
    {
     "data": {
      "image/png": "[encoded data removed]",
      "text/plain": [
       "<Figure size 1200x500 with 2 Axes>"
      ]
     },
     "metadata": {},
     "output_type": "display_data"
    }
   ],
   "source": [
    "paint(price_star,price_star_q2,price_star_q3)"
   ]
  },
  {
   "cell_type": "markdown",
   "id": "6891cd5f",
   "metadata": {},
   "source": [
    "It make sense that the collusion between 1 and 2 won't change their pricing a lot, since their market share is really small (6%). 2 is extremely small (2% of the market share of 1), so one should expect there is no much change for 1's pricing."
   ]
  },
  {
   "cell_type": "code",
   "execution_count": 24,
   "id": "46c208fd",
   "metadata": {},
   "outputs": [
    {
     "data": {
      "text/plain": [
       "(0.0643196930883229, 0.022078011064517768)"
      ]
     },
     "execution_count": 24,
     "metadata": {},
     "output_type": "execute_result"
    }
   ],
   "source": [
    "market_share_list100 = list(data[data['t']==100]['market_share'])\n",
    "market_share_list100[0]+market_share_list100[1], market_share_list100[1]/market_share_list100[0]"
   ]
  },
  {
   "cell_type": "code",
   "execution_count": 25,
   "id": "25d2eb0c",
   "metadata": {},
   "outputs": [],
   "source": [
    "def calc_profit(temp_price):\n",
    "    s_list = share_function_MNL(temp_price)\n",
    "    pi=[0]\n",
    "    for j in range(1, 11):\n",
    "        #print(j,temp_price[j-1],c_jt_dic[(j,Temp_t)],s_list[j-1])\n",
    "        pi.append((temp_price[j-1]-c_jt_dic[(j,Temp_t)])*(s_list[j-1]))\n",
    "    return pi\n",
    "\n",
    "def loss_total_profit(p):\n",
    "    return -1 * np.sum(calc_profit(p))\n",
    "\n",
    "# step 2: I directly search for optimal p vector that maximizes the total profit. It gives an almost perfect answer, but since the tolerance is quite high, I just use it as a clever initial guess for Nash solver (GMM).\n",
    "initial_guess=list(data[data['t']==100]['price'])\n",
    "result = minimize(loss_total_profit, initial_guess, tol=1e-4,method = 'Nelder-Mead')\n",
    "paint(price_star,price_star_q2,result.x)"
   ]
  },
  {
   "cell_type": "code",
   "execution_count": 27,
   "id": "d59c9e3e",
   "metadata": {},
   "outputs": [
    {
     "data": {
      "image/png": "[encoded data removed]",
      "text/plain": [
       "<Figure size 1200x500 with 2 Axes>"
      ]
     },
     "metadata": {},
     "output_type": "display_data"
    },
    {
     "name": "stdout",
     "output_type": "stream",
     "text": [
      "number of iterations for minimize kernal: 805\n"
     ]
    }
   ],
   "source": [
    "# step 3: Use theory_optimal_price as an initial guess for GMM solver. Finally I get price_star_q3_prime which is even better than theory_xx.\n",
    "optimal_profit = np.sum(calc_profit(result.x))\n",
    "global theory_optimal_price\n",
    "theory_optimal_price = result.x\n",
    "\n",
    "price_star_q3_prime,result_q3_prime = solve_Nash(initial_guess=theory_optimal_price, question=3)\n",
    "paint(price_star,price_star_q2,price_star_q3_prime)\n",
    "# and the optimal price_star for 10-collusion is price_star_q3_prime\n",
    "print(price_star_q3_prime) "
   ]
  },
  {
   "cell_type": "code",
   "execution_count": 31,
   "id": "3b7c2ab2",
   "metadata": {},
   "outputs": [
    {
     "name": "stdout",
     "output_type": "stream",
     "text": [
      "True 1.2482128544359468\n",
      "True 3.3763327303039574\n"
     ]
    }
   ],
   "source": [
    "pi_q1=calc_profit(price_star)\n",
    "pi_q2=calc_profit(price_star_q2)\n",
    "pi_q3=calc_profit(price_star_q3_prime)\n",
    "pi_q3_prime=calc_profit(price_star_q3_prime)\n",
    "judge_q2profitable = pi_q1[1]+pi_q1[2]<=pi_q2[1]+pi_q2[2]\n",
    "judge_q3profitable = np.sum(pi_q1)<= np.sum(pi_q3)\n",
    "\n",
    "print(judge_q2profitable, (pi_q2[1]+pi_q2[2])/pi_q1[1]+pi_q1[2])\n",
    "print(judge_q3profitable, np.sum(pi_q3)/np.sum(pi_q1))\n",
    "# So my results say :\n",
    "# If 1 and 2 collude then both firm's profit increases by 20%\n",
    "# If all firms collude then the total profit increases by 237%.\n"
   ]
  }
 ],
 "metadata": {
  "kernelspec": {
   "display_name": "Python 3 (ipykernel)",
   "language": "python",
   "name": "python3"
  },
  "language_info": {
   "codemirror_mode": {
    "name": "ipython",
    "version": 3
   },
   "file_extension": ".py",
   "mimetype": "text/x-python",
   "name": "python",
   "nbconvert_exporter": "python",
   "pygments_lexer": "ipython3",
   "version": "3.11.5"
  },
  "toc": {
   "base_numbering": 1,
   "nav_menu": {},
   "number_sections": true,
   "sideBar": true,
   "skip_h1_title": false,
   "title_cell": "Table of Contents",
   "title_sidebar": "Contents",
   "toc_cell": false,
   "toc_position": {},
   "toc_section_display": true,
   "toc_window_display": false
  }
 },
 "nbformat": 4,
 "nbformat_minor": 5
}
