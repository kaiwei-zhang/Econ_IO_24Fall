{
 "cells": [
  {
   "cell_type": "code",
   "execution_count": 37,
   "id": "f644ee27",
   "metadata": {},
   "outputs": [
    {
     "data": {
      "text/plain": [
       "['IO_PS_1_questions.pdf', 'product_data.csv']"
      ]
     },
     "execution_count": 37,
     "metadata": {},
     "output_type": "execute_result"
    }
   ],
   "source": [
    "import os\n",
    "import pandas as pd\n",
    "import numpy as np\n",
    "from scipy import stats\n",
    "import statsmodels.api as sm\n",
    "from statsmodels.sandbox.regression.gmm import IV2SLS\n",
    "import matplotlib.pyplot as plt\n",
    "\n",
    "os.chdir('/Users/kaiweizhang/Desktop/IO Topic/ass1')\n",
    "os.listdir()"
   ]
  },
  {
   "cell_type": "code",
   "execution_count": 38,
   "id": "16efbd0c",
   "metadata": {},
   "outputs": [],
   "source": [
    "def prepare_data(data):\n",
    "    # Calculate outside good share (assuming outside share is 1 - sum of inside shares)\n",
    "    outside_share = 1 - data.groupby('t')['market_share'].sum()\n",
    "    data = data.merge(outside_share.reset_index().rename(columns={'market_share': 'outside_share'}), on='t')\n",
    "\n",
    "    # Calculate log odds ratio\n",
    "    data['log_odds'] = np.log(data['market_share'] / data['outside_share'])\n",
    "\n",
    "    # Create dummy variables for diet and regular sodas\n",
    "    data['Diet'] = (data['nest'] == 'Diet').astype(int)\n",
    "    data['Regular'] = (data['nest'] == 'Regular').astype(int)\n",
    "    return data\n",
    "\n",
    "def get_parameters(model, nested=False, print_results=False):\n",
    "    dic={}\n",
    "    alpha=model.params['price']\n",
    "    beta1=model.params['sugar']\n",
    "    beta2=model.params['caffeine']\n",
    "    gamma_D=model.params['Diet']\n",
    "    gamma_R=model.params['Regular']\n",
    "    dic['alpha']=alpha\n",
    "    dic['beta1']=beta1\n",
    "    dic['beta2']=beta2\n",
    "    dic['gamma_D']=gamma_D\n",
    "    dic['gamma_R']=gamma_R\n",
    "    if nested:\n",
    "        sigma=model.params['log_within_share']\n",
    "        dic['sigma'] = sigma\n",
    "    if print_results:\n",
    "        print(f\"alpha (price): {alpha:.4f}\")\n",
    "        print(f\"beta1 (sugar): {beta1:.4f}\")\n",
    "        print(f\"beta2 (caffeine): {beta2:.4f}\")\n",
    "        print(f\"gamma_D (Diet): {gamma_D:.4f}\")\n",
    "        print(f\"gamma_R (Regular): {gamma_R:.4f}\")\n",
    "        if nested:\n",
    "            print(f\"sigma : {sigma:.4f}\")\n",
    "    return dic\n"
   ]
  },
  {
   "cell_type": "markdown",
   "id": "f213f51c",
   "metadata": {},
   "source": [
    "# Problem 1\n",
    "## 1(a)\n",
    "\n",
    "In this part I reg ln(s_jt/s_0t) to X_jt,p_jt, I_Diet, I_Regular. This means I treat xi_j as noise in regression.\n",
    "\n",
    "The estimations are:\n",
    "\n",
    "const      -3.044239\n",
    "price      -1.626102\n",
    "sugar       1.528062\n",
    "caffeine    1.445800\n",
    "Diet        0.603640\n",
    "Regular    -3.647879"
   ]
  },
  {
   "cell_type": "code",
   "execution_count": 39,
   "id": "c4b849c0",
   "metadata": {},
   "outputs": [
    {
     "name": "stdout",
     "output_type": "stream",
     "text": [
      "                            OLS Regression Results                            \n",
      "==============================================================================\n",
      "Dep. Variable:               log_odds   R-squared:                       0.885\n",
      "Model:                            OLS   Adj. R-squared:                  0.884\n",
      "Method:                 Least Squares   F-statistic:                     1912.\n",
      "Date:                Mon, 16 Sep 2024   Prob (F-statistic):               0.00\n",
      "Time:                        23:15:45   Log-Likelihood:                -1305.2\n",
      "No. Observations:                1000   AIC:                             2620.\n",
      "Df Residuals:                     995   BIC:                             2645.\n",
      "Df Model:                           4                                         \n",
      "Covariance Type:            nonrobust                                         \n",
      "==============================================================================\n",
      "                 coef    std err          t      P>|t|      [0.025      0.975]\n",
      "------------------------------------------------------------------------------\n",
      "price         -1.6261      0.021    -77.352      0.000      -1.667      -1.585\n",
      "sugar          1.5281      0.041     37.444      0.000       1.448       1.608\n",
      "caffeine       1.4458      0.029     50.517      0.000       1.390       1.502\n",
      "Diet          -2.4406      0.149    -16.422      0.000      -2.732      -2.149\n",
      "Regular       -6.6921      0.245    -27.269      0.000      -7.174      -6.211\n",
      "==============================================================================\n",
      "Omnibus:                        1.109   Durbin-Watson:                   1.901\n",
      "Prob(Omnibus):                  0.574   Jarque-Bera (JB):                1.172\n",
      "Skew:                          -0.048   Prob(JB):                        0.557\n",
      "Kurtosis:                       2.862   Cond. No.                         63.3\n",
      "==============================================================================\n",
      "\n",
      "Notes:\n",
      "[1] Standard Errors assume that the covariance matrix of the errors is correctly specified.\n"
     ]
    }
   ],
   "source": [
    "# Load the data\n",
    "data = pd.read_csv('product_data.csv')\n",
    "data=prepare_data(data)\n",
    "\n",
    "# Prepare the design matrix X and dependent variable y\n",
    "X = data[['price', 'sugar', 'caffeine', 'Diet', 'Regular']]\n",
    "# X = sm.add_constant(X)  # Add a constant term to the model\n",
    "y = data['log_odds']\n",
    "\n",
    "# Fit the model\n",
    "model = sm.OLS(y, X)\n",
    "model_results=model.fit()\n",
    "\n",
    "# Print the results\n",
    "print(model_results.summary())\n",
    "\n",
    "params_ols = get_parameters(model_results, nested=False, print_results=False)"
   ]
  },
  {
   "cell_type": "markdown",
   "id": "b52d677d",
   "metadata": {},
   "source": [
    "## 1(a)-2 \n",
    "In this part I reg ln(s_jt/s_0t) to X_jt,p_jt, I_Diet, I_Regular and 9 dummies for each j (drop ID_1). This means I treat xi_j as fixed within periods in regression."
   ]
  },
  {
   "cell_type": "code",
   "execution_count": 40,
   "id": "854c49de",
   "metadata": {},
   "outputs": [
    {
     "name": "stdout",
     "output_type": "stream",
     "text": [
      "alpha (price): -1.6239\n",
      "beta1 (sugar): 1.5230\n",
      "beta2 (caffeine): 1.4450\n",
      "gamma_D (Diet): -2.3990\n",
      "gamma_R (Regular): -5.5584\n"
     ]
    }
   ],
   "source": [
    "ID_dummies = pd.get_dummies(data['product_ID'], prefix='ID').astype(int)\n",
    "ID_dummies=ID_dummies.drop('ID_1',axis=1)\n",
    "\n",
    "X = pd.concat([X, ID_dummies], axis=1)\n",
    "\n",
    "y = data['log_odds']\n",
    "\n",
    "# Fit the model\n",
    "model = sm.OLS(y, X)\n",
    "model_results=model.fit()\n",
    "\n",
    "# Print the results\n",
    "params_ols_fixed_effect = get_parameters(model_results, nested=False, print_results=True)"
   ]
  },
  {
   "cell_type": "markdown",
   "id": "7cce0502",
   "metadata": {},
   "source": [
    "## 1(b)\n"
   ]
  },
  {
   "cell_type": "code",
   "execution_count": 41,
   "id": "dc86ace3",
   "metadata": {},
   "outputs": [
    {
     "name": "stdout",
     "output_type": "stream",
     "text": [
      "alpha (price): -1.2405\n",
      "beta1 (sugar): 1.3486\n",
      "beta2 (caffeine): 1.3318\n",
      "gamma_D (Diet): -2.6493\n",
      "gamma_R (Regular): -6.5599\n"
     ]
    }
   ],
   "source": [
    "# Construct instruments\n",
    "data['Z1'] = data['caffeine_extract_price'] * data['caffeine']\n",
    "data['Z2'] = data['corn_syrup_price'] * data['sugar']\n",
    "\n",
    "# Prepare the data for IV regression\n",
    "\n",
    "X = data[['sugar', 'caffeine', 'Diet', 'Regular','price']]\n",
    "instruments = data[['sugar', 'caffeine', 'Diet', 'Regular', 'Z1', 'Z2']]\n",
    "y = data['log_odds']\n",
    "\n",
    "# Perform 2SLS estimation\n",
    "iv_model = IV2SLS(y, X, instruments)\n",
    "iv_results = iv_model.fit()\n",
    "\n",
    "# Print the results\n",
    "params_IV = get_parameters(iv_results, nested=False, print_results=True)"
   ]
  },
  {
   "cell_type": "markdown",
   "id": "3279acab",
   "metadata": {},
   "source": [
    "## 1(c)\n",
    "Let $M=\\sum_{k\\neq j} exp(\\delta_k)+1$, then $\\frac{\\partial s_{jt}}{\\partial p_{jt}}=\\frac{Mexp(\\delta_{jt})}{(M+exp(\\delta_{jt}))^2}\\alpha=\\alpha s_{jt}(1-s_{jt})$"
   ]
  },
  {
   "cell_type": "code",
   "execution_count": 42,
   "id": "422501ea",
   "metadata": {},
   "outputs": [
    {
     "name": "stdout",
     "output_type": "stream",
     "text": [
      "Mean own-price elasticity for Regular drinks: -4.8434\n",
      "Mean own-price elasticity for Diet drinks: -3.4295\n"
     ]
    },
    {
     "data": {
      "image/png": "[encoded data removed]",
      "text/plain": [
       "<Figure size 1200x600 with 2 Axes>"
      ]
     },
     "metadata": {},
     "output_type": "display_data"
    }
   ],
   "source": [
    "def own_price_derivative(alpha, s_jt):\n",
    "    return alpha * s_jt * (1 - s_jt)\n",
    "\n",
    "# Function to calculate own-price elasticity\n",
    "def own_price_elasticity(alpha, p_jt, s_jt):\n",
    "    return alpha * p_jt * (1 - s_jt)\n",
    "\n",
    "# Calculate own-price derivatives and elasticities\n",
    "alpha=params_ols['alpha']\n",
    "data['own_price_derivative'] = own_price_derivative(alpha, data['market_share'])\n",
    "data['own_price_elasticity'] = own_price_elasticity(alpha, data['price'], data['market_share'])\n",
    "\n",
    "# Calculate mean elasticities for Regular and Diet drinks\n",
    "mean_elasticity_regular = data[data['nest'] == 'Regular']['own_price_elasticity'].mean()\n",
    "mean_elasticity_diet = data[data['nest'] == 'Diet']['own_price_elasticity'].mean()\n",
    "\n",
    "print(f\"Mean own-price elasticity for Regular drinks: {mean_elasticity_regular:.4f}\")\n",
    "print(f\"Mean own-price elasticity for Diet drinks: {mean_elasticity_diet:.4f}\")\n",
    "\n",
    "\n",
    "# * Plot histograms of elasticities\n",
    "\n",
    "\n",
    "plt.figure(figsize=(12, 6))\n",
    "plt.subplot(1, 2, 1)\n",
    "data[data['nest'] == 'Regular']['own_price_elasticity'].hist(bins=20)\n",
    "plt.title('Own-Price Elasticities - Regular Drinks')\n",
    "plt.xlabel('Elasticity')\n",
    "plt.ylabel('Frequency')\n",
    "\n",
    "plt.subplot(1, 2, 2)\n",
    "data[data['nest'] == 'Diet']['own_price_elasticity'].hist(bins=20)\n",
    "plt.title('Own-Price Elasticities - Diet Drinks')\n",
    "plt.xlabel('Elasticity')\n",
    "plt.ylabel('Frequency')\n",
    "\n",
    "plt.tight_layout()\n",
    "plt.show()"
   ]
  },
  {
   "cell_type": "markdown",
   "id": "425b439d",
   "metadata": {},
   "source": [
    "## 1(d)\n",
    "Similarly $\\frac{\\partial s_{jt}}{\\partial p_{1t}}=-\\alpha s_{jt}s_{1t}$"
   ]
  },
  {
   "cell_type": "code",
   "execution_count": 43,
   "id": "3f48305f",
   "metadata": {},
   "outputs": [
    {
     "name": "stdout",
     "output_type": "stream",
     "text": [
      "Mean cross-price elasticity between product 1 and Diet sodas: 0.2368\n",
      "Mean cross-price elasticity between product 1 and Regular sodas: 0.4458\n"
     ]
    },
    {
     "data": {
      "image/png": "[encoded data removed]",
      "text/plain": [
       "<Figure size 1200x600 with 2 Axes>"
      ]
     },
     "metadata": {},
     "output_type": "display_data"
    }
   ],
   "source": [
    "def cross_price_derivative(alpha, s_jt, s_it):\n",
    "    return -alpha * s_jt * s_it\n",
    "\n",
    "# Function to calculate cross-price elasticity\n",
    "def cross_price_elasticity(alpha, p_1t, s_jt, s_1t):\n",
    "    return -alpha * p_1t * s_jt\n",
    "\n",
    "# Get product 1's market share for each time period\n",
    "product_1_share = data[data['product_ID'] == 1].set_index('t')['market_share']\n",
    "\n",
    "# Calculate cross-price derivatives and elasticities\n",
    "data['cross_price_derivative'] = data.apply(lambda row: cross_price_derivative(alpha, row['market_share'], product_1_share[row['t']]) \n",
    "                                            if row['product_ID'] != 1 else np.nan, axis=1)\n",
    "\n",
    "data['cross_price_elasticity'] = data.apply(lambda row: cross_price_elasticity(alpha, data.loc[(data['product_ID'] == 1) & (data['t'] == row['t']), 'price'].values[0], \n",
    "                                            row['market_share'], product_1_share[row['t']])\n",
    "                                            if row['product_ID'] != 1 else np.nan, axis=1)\n",
    "\n",
    "# Calculate mean cross-price elasticities\n",
    "mean_cross_elasticity_diet = data[(data['nest'] == 'Diet') & (data['product_ID'] != 1)]['cross_price_elasticity'].mean()\n",
    "mean_cross_elasticity_regular = data[(data['nest'] == 'Regular') & (data['product_ID'] != 1)]['cross_price_elasticity'].mean()\n",
    "\n",
    "print(f\"Mean cross-price elasticity between product 1 and Diet sodas: {mean_cross_elasticity_diet:.4f}\")\n",
    "print(f\"Mean cross-price elasticity between product 1 and Regular sodas: {mean_cross_elasticity_regular:.4f}\")\n",
    "\n",
    "# * Plot histograms of cross-price elasticities\n",
    "plt.figure(figsize=(12, 6))\n",
    "plt.subplot(1, 2, 1)\n",
    "data[(data['nest'] == 'Diet') & (data['product_ID'] != 1)]['cross_price_elasticity'].hist(bins=20)\n",
    "plt.title('Cross-Price Elasticities - Product 1 vs Diet Drinks')\n",
    "plt.xlabel('Elasticity')\n",
    "plt.ylabel('Frequency')\n",
    "\n",
    "plt.subplot(1, 2, 2)\n",
    "data[(data['nest'] == 'Regular') & (data['product_ID'] != 1)]['cross_price_elasticity'].hist(bins=20)\n",
    "plt.title('Cross-Price Elasticities - Product 1 vs Regular Drinks')\n",
    "plt.xlabel('Elasticity')\n",
    "plt.ylabel('Frequency')\n",
    "\n",
    "plt.tight_layout()\n",
    "plt.show()"
   ]
  },
  {
   "cell_type": "markdown",
   "id": "dedd4319",
   "metadata": {},
   "source": [
    "## 1(e)\n",
    "Use the formula that $\\frac{\\partial s_{jt}}{\\partial p_{it}}=-\\alpha s_{jt}s_{it}$"
   ]
  },
  {
   "cell_type": "code",
   "execution_count": 44,
   "id": "276a3a59",
   "metadata": {},
   "outputs": [
    {
     "name": "stdout",
     "output_type": "stream",
     "text": [
      "Jacobian matrix for period 100:\n",
      "[[-0.073  0.     0.001  0.002  0.019  0.003  0.035  0.008  0.003  0.003]\n",
      " [ 0.    -0.002  0.     0.     0.     0.     0.001  0.     0.     0.   ]\n",
      " [ 0.001  0.    -0.013  0.     0.003  0.     0.006  0.001  0.001  0.   ]\n",
      " [ 0.002  0.     0.    -0.025  0.006  0.001  0.011  0.002  0.001  0.001]\n",
      " [ 0.019  0.     0.003  0.006 -0.229  0.012  0.135  0.029  0.012  0.011]\n",
      " [ 0.003  0.     0.     0.001  0.012 -0.047  0.022  0.005  0.002  0.002]\n",
      " [ 0.035  0.001  0.006  0.011  0.135  0.022 -0.306  0.053  0.022  0.02 ]\n",
      " [ 0.008  0.     0.001  0.002  0.029  0.005  0.053 -0.108  0.005  0.004]\n",
      " [ 0.003  0.     0.001  0.001  0.012  0.002  0.022  0.005 -0.049  0.002]\n",
      " [ 0.003  0.     0.     0.001  0.011  0.002  0.02   0.004  0.002 -0.043]]\n"
     ]
    }
   ],
   "source": [
    "def generate_jacobian(time_period, data, params):\n",
    "    \"\"\"\n",
    "    Generate the Jacobian matrix of price derivatives for a given time period.\n",
    "    I Do need market_share column in the data pd\n",
    "    Returns: np.array like Jacobian matrix of price derivatives.\n",
    "    \"\"\"\n",
    "    alpha = params['alpha']\n",
    "    # Filter data for the given time period\n",
    "    period_data = data[data['t'] == time_period]\n",
    "    n_products = len(period_data)\n",
    "    shares = period_data['market_share'].values\n",
    "    \n",
    "    # Initialize the Jacobian matrix\n",
    "    jacobian = np.zeros((n_products, n_products))\n",
    "\n",
    "    # Fill in the Jacobian matrix\n",
    "    for i in range(n_products):\n",
    "        for j in range(n_products):\n",
    "            if i == j:\n",
    "                # Own-price derivative\n",
    "                s_it = shares[i]\n",
    "                jacobian[i, i] = own_price_derivative(alpha, s_it)\n",
    "            else:\n",
    "                # Cross-price derivative\n",
    "                s_jt=shares[j]\n",
    "                s_it=shares[i]\n",
    "                jacobian[i, j] = cross_price_derivative(alpha, s_jt,  s_it)\n",
    "                \n",
    "    \n",
    "    return jacobian\n",
    "\n",
    "\n",
    "# Generate Jacobian for the last time period\n",
    "last_period = data['t'].max()\n",
    "jacobian_last_period = generate_jacobian(last_period, data, params_IV)\n",
    "print(f\"Jacobian matrix for period {last_period}:\")\n",
    "print(np.round(jacobian_last_period, 3))"
   ]
  },
  {
   "cell_type": "markdown",
   "id": "cd8a4a82",
   "metadata": {},
   "source": [
    "# Compare estimations from different methods"
   ]
  },
  {
   "cell_type": "code",
   "execution_count": null,
   "id": "16183e5a",
   "metadata": {},
   "outputs": [],
   "source": []
  },
  {
   "cell_type": "code",
   "execution_count": null,
   "id": "1f8c62cc",
   "metadata": {},
   "outputs": [],
   "source": [
    "sda"
   ]
  }
 ],
 "metadata": {
  "kernelspec": {
   "display_name": "Python 3 (ipykernel)",
   "language": "python",
   "name": "python3"
  },
  "language_info": {
   "codemirror_mode": {
    "name": "ipython",
    "version": 3
   },
   "file_extension": ".py",
   "mimetype": "text/x-python",
   "name": "python",
   "nbconvert_exporter": "python",
   "pygments_lexer": "ipython3",
   "version": "3.11.5"
  },
  "toc": {
   "base_numbering": 1,
   "nav_menu": {},
   "number_sections": true,
   "sideBar": true,
   "skip_h1_title": false,
   "title_cell": "Table of Contents",
   "title_sidebar": "Contents",
   "toc_cell": false,
   "toc_position": {},
   "toc_section_display": true,
   "toc_window_display": false
  }
 },
 "nbformat": 4,
 "nbformat_minor": 5
}
